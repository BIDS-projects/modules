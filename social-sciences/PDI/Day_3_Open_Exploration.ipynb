{
 "cells": [
  {
   "cell_type": "markdown",
   "metadata": {},
   "source": [
    "# Day 3\n",
    "## Free Response\n",
    "\n",
    "Using support from the data sets you analyzed previously and your answers to the questions in the two notebooks, choose one of the following prompts and write 2-3 paragraphs. Present your answer in a structured and formal argument, and feel free to expand your response to any of the questions with data/facts you find relevant and intersting.  "
   ]
  },
  {
   "cell_type": "markdown",
   "metadata": {},
   "source": [
    "### Prompts\n",
    "1. Are early voting/vote by mail results a good indicator of who will win the election? Consider what you know about who tends to vote early, and who doesn’t. How might early voting results be skewed?\n",
    "\n",
    "2. Design a population that would be ideal for a Democratic candidate, and one that would be ideal for a Republican candidate. Create a few “sample voters” for each case, and be sure to defend each demographic choice you make (age, gender, ethnicity, etc). \n",
    "\n",
    "3. Certain demographics are markedly more polarized than others. Select a few of those demographics, and explain why you believe this is the case. Reliable outside sources may be useful here, but use them to support your own argument (not the other way around). \n",
    "\n",
    "4. Create your own prompt! Feel free to write about anything related to what we’ve covered over the past few days, so long as you craft an argument supported by data."
   ]
  },
  {
   "cell_type": "markdown",
   "metadata": {},
   "source": [
    "(Type Your Response Here)\n",
    "\n",
    "\n"
   ]
  },
  {
   "cell_type": "markdown",
   "metadata": {},
   "source": [
    "## Further Analysis\n",
    "We have included some functions below that you can use for further analysis as election and polling data updates over the next few weeks. \n",
    "\n",
    "Like previously, remember to run all of the cells and in the order they are presented. You can also use the plus (+) button located on the top left of the notebook (next to the save button) to create new cells, and the scissor button to delete cells. Feel free to experiment more with the iPython notebook and create your own functions as you become more familiar with the environment!"
   ]
  },
  {
   "cell_type": "code",
   "execution_count": null,
   "metadata": {
    "collapsed": true
   },
   "outputs": [],
   "source": [
    "# Import helpful libraries, make sure you run this cell first!\n",
    "from datascience import * \n",
    "import numpy as np\n",
    "import matplotlib "
   ]
  },
  {
   "cell_type": "markdown",
   "metadata": {},
   "source": [
    "## Helpful Functions\n",
    "Each function has a description of what it does and its inputs. Make sure you follow the input structure of the function or running it may result in errors! We have also included a demo at the bottom on how to use all of these functions on a sample dataset. "
   ]
  },
  {
   "cell_type": "code",
   "execution_count": null,
   "metadata": {
    "collapsed": true
   },
   "outputs": [],
   "source": [
    "def create_table(filename):\n",
    "    \"\"\"\n",
    "    Description: Returns a table out of the file with the input filename\n",
    "    Input:\n",
    "        filename - the name of the file that you want to create a table out of (i.e. 'Party v Age.csv')\n",
    "    \"\"\"\n",
    "    return Table().read_table(filename)"
   ]
  },
  {
   "cell_type": "code",
   "execution_count": null,
   "metadata": {
    "collapsed": false
   },
   "outputs": [],
   "source": [
    "def display_table(table, number_of_rows=''):\n",
    "    \"\"\"\n",
    "    Description: Displays the input table with the number of rows you want displayed\n",
    "    Inputs:\n",
    "        table - the name of the table that you want to display\n",
    "        number_of_rows - the number of rows you want to display (default is all rows)\n",
    "    \"\"\"\n",
    "    return table.show(number_of_rows)"
   ]
  },
  {
   "cell_type": "code",
   "execution_count": null,
   "metadata": {
    "collapsed": true
   },
   "outputs": [],
   "source": [
    "def bar_graph(table, column_name):\n",
    "    \"\"\"\n",
    "    Description:\n",
    "    Inputs: \n",
    "        \n",
    "    \"\"\"\n",
    "    return table.barh(column_name)"
   ]
  },
  {
   "cell_type": "code",
   "execution_count": null,
   "metadata": {
    "collapsed": true
   },
   "outputs": [],
   "source": [
    "def remove_column(table, column_name):\n",
    "    \"\"\"\n",
    "    Description: Returns a table with the input column removed from it\n",
    "    Inputs:\n",
    "        table - the name of the table that you want the column removed from\n",
    "        column_name - the name of the column that you want to remove\n",
    "    \"\"\"\n",
    "    return table.drop(column_name)"
   ]
  },
  {
   "cell_type": "code",
   "execution_count": null,
   "metadata": {
    "collapsed": true
   },
   "outputs": [],
   "source": [
    "def sum_column(table, column_name):\n",
    "    \"\"\"\n",
    "    Description: Returns the sum of all the elements in the input column\n",
    "    Inputs:\n",
    "        table - the name of the table you want to sum from\n",
    "        column_name - the name of the column that you want to sum the counts for, make sure the column has only numbers\n",
    "    \"\"\"\n",
    "    return sum(table[column_name])"
   ]
  },
  {
   "cell_type": "code",
   "execution_count": null,
   "metadata": {
    "collapsed": true
   },
   "outputs": [],
   "source": [
    "def avg_column(table, column_name):\n",
    "    \"\"\"\n",
    "    Description: Returns the average of all the elements in the input column\n",
    "    Inputs:\n",
    "        table - the name of the table you want to take the average from\n",
    "        column_name - the name of the column that you want to sum the counts for, make sure the column has only numbers\n",
    "    \"\"\"\n",
    "    return np.average(table[column_name])"
   ]
  },
  {
   "cell_type": "code",
   "execution_count": null,
   "metadata": {
    "collapsed": true
   },
   "outputs": [],
   "source": [
    "def get_specific_data(table, column_name, value):\n",
    "    \"\"\"\n",
    "    Description: Returns just the data where the elements in a column are of a specific value \n",
    "    Inputs:\n",
    "        table - the name of the table you want to get data from\n",
    "        column_name - the column name that you want to filter by\n",
    "        value: the value in the specified column that you are querying for\n",
    "    \"\"\"\n",
    "    return table.where(table.column(column_name) == value)"
   ]
  },
  {
   "cell_type": "code",
   "execution_count": null,
   "metadata": {
    "collapsed": true
   },
   "outputs": [],
   "source": [
    "def min_element_entry(table, column_name):\n",
    "    \"\"\"\n",
    "    Description: Returns the row in the table that contains the lowest entry out of that input column's elements \n",
    "    Inputs:\n",
    "        table - the name of the table you want to get data from\n",
    "        column_name - the name of the column that you want to get the minimum entry of \n",
    "    \"\"\"\n",
    "    min_element = min(table[column_name])\n",
    "    return table.where(table.column(column_name) == min_element)"
   ]
  },
  {
   "cell_type": "code",
   "execution_count": null,
   "metadata": {
    "collapsed": true
   },
   "outputs": [],
   "source": [
    "def max_element_entry(table, column_name):\n",
    "    \"\"\"\n",
    "    Description: Returns the row in the table that contains the highest entry out of that input column's elements \n",
    "    Inputs:\n",
    "        table - the name of the table you want to get data from\n",
    "        column_name - the name of the column that you want to get the maximum entry of \n",
    "    \"\"\"\n",
    "    max_element = max(table[column_name])\n",
    "    return table.where(table.column(column_name) == max_element)"
   ]
  },
  {
   "cell_type": "markdown",
   "metadata": {},
   "source": [
    "## Demo: How each function is called and used"
   ]
  },
  {
   "cell_type": "code",
   "execution_count": null,
   "metadata": {
    "collapsed": false
   },
   "outputs": [],
   "source": [
    "# Creates a table from the file 'Party v Age.csv'\n",
    "table_age = create_table('Party v Age.csv')\n",
    "table_age.show()"
   ]
  },
  {
   "cell_type": "code",
   "execution_count": null,
   "metadata": {
    "collapsed": false
   },
   "outputs": [],
   "source": [
    "# Displays 3 rows of table called 'table_age'\n",
    "display_table(table_age, 3)"
   ]
  },
  {
   "cell_type": "code",
   "execution_count": null,
   "metadata": {
    "collapsed": false
   },
   "outputs": [],
   "source": [
    "# Get only the data where the element in 'Zip' column is 90025 (basically filter and return elements with zipcode 90025)\n",
    "table_age_90025 = get_specific_data(table_age, 'Zip', 90025)\n",
    "table_age_90025"
   ]
  },
  {
   "cell_type": "code",
   "execution_count": null,
   "metadata": {
    "collapsed": false
   },
   "outputs": [],
   "source": [
    "# Creates new table without the column 'Zip' from the table called 'table_age_90025'\n",
    "table_age_90025_no_zip = remove_column(table_age_90025, 'Zip')\n",
    "table_age_90025_no_zip"
   ]
  },
  {
   "cell_type": "code",
   "execution_count": null,
   "metadata": {
    "collapsed": false
   },
   "outputs": [],
   "source": [
    "# Creates a bar graph with the column 'Age' as the axis, with counts from the other numerical columns \n",
    "# Make sure that all the other columns besides the input axis column only contain numerical entries or this will not work!\n",
    "bar_graph(table_age_90025_no_zip, 'Age')"
   ]
  },
  {
   "cell_type": "code",
   "execution_count": null,
   "metadata": {
    "collapsed": false
   },
   "outputs": [],
   "source": [
    "# Returns the sum of the elements in column 'D' from table 'table_age'\n",
    "sum_column(table_age, 'D')"
   ]
  },
  {
   "cell_type": "code",
   "execution_count": null,
   "metadata": {
    "collapsed": false
   },
   "outputs": [],
   "source": [
    "# Returns the average of the elements in column 'D' from table 'table_age'\n",
    "avg_column(table_age, 'D')"
   ]
  },
  {
   "cell_type": "code",
   "execution_count": null,
   "metadata": {
    "collapsed": false
   },
   "outputs": [],
   "source": [
    "# Returns the entry of table 'table_age' with the lowest count for column 'D'\n",
    "min_element_entry(table_age, 'D')"
   ]
  },
  {
   "cell_type": "code",
   "execution_count": null,
   "metadata": {
    "collapsed": false
   },
   "outputs": [],
   "source": [
    "# Returns the entry of table 'table_age' with the highest count for column 'DS'\n",
    "max_element_entry(table_age, 'DS')"
   ]
  },
  {
   "cell_type": "markdown",
   "metadata": {},
   "source": [
    "## Your Own Analysis\n",
    "Now that you've seen how graphs and tables are generated, it is your turn to pose your own questions and create your own analysis with future election data. In the following cells, experiment with the provided data files using the helper functions above. Feel free to look for more resources or reference back to the other iPython notebooks we have worked on. \n",
    "\n"
   ]
  },
  {
   "cell_type": "markdown",
   "metadata": {
    "collapsed": true
   },
   "source": [
    "Now that you've seen how the graphs and tables are generated, take some time to play around with the functions and create your own graphs/tables using the helper functions from above!. If you're having trouble, try copying code from the examples and changing around variables. Feel free to look for more resources or reference back to the other iPython notebooks we have worked on. You won't be assessed on your code; this is just a time for you to play around. If you have any questions, please ask one of us!\n",
    "\n",
    "For those intersted in experimenting more and going more in depth, <a href=\"http://data8.org/datascience/index.html\">here</a> is the documentation for the datascience module we have been using in the class!\n"
   ]
  }
 ],
 "metadata": {
  "anaconda-cloud": {},
  "kernelspec": {
   "display_name": "Python [default]",
   "language": "python",
   "name": "python3"
  },
  "language_info": {
   "codemirror_mode": {
    "name": "ipython",
    "version": 3
   },
   "file_extension": ".py",
   "mimetype": "text/x-python",
   "name": "python",
   "nbconvert_exporter": "python",
   "pygments_lexer": "ipython3",
   "version": "3.5.2"
  }
 },
 "nbformat": 4,
 "nbformat_minor": 0
}
