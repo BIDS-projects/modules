{
 "cells": [
  {
   "cell_type": "markdown",
   "metadata": {},
   "source": [
    "# Overview Demo #\n",
    "This notebook explains how we gathered data for party_v_gender and other similar demographic1_v_demographic2 as well as explains the encoding for other variables later used in the datasets\n",
    "\n",
    "### All Zipcodes ###"
   ]
  },
  {
   "cell_type": "code",
   "execution_count": null,
   "metadata": {
    "collapsed": true
   },
   "outputs": [],
   "source": [
    "from datascience import * \n",
    "import numpy as np\n",
    "import matplotlib \n",
    "%matplotlib inline"
   ]
  },
  {
   "cell_type": "markdown",
   "metadata": {},
   "source": [
    "## Party v Gender ##"
   ]
  },
  {
   "cell_type": "code",
   "execution_count": null,
   "metadata": {
    "collapsed": false
   },
   "outputs": [],
   "source": [
    "party_gender = Table().read_table(\"Party v Gender.csv\")\n",
    "party_gender"
   ]
  },
  {
   "cell_type": "markdown",
   "metadata": {},
   "source": [
    "### Total Voter Count ###"
   ]
  },
  {
   "cell_type": "code",
   "execution_count": null,
   "metadata": {
    "collapsed": false
   },
   "outputs": [],
   "source": [
    "# Table for number of Democrats, Republicans, Did not State in all given zipcodes\n",
    "totals = Table().with_columns([\n",
    "        'Party', ['D', 'R', 'DS'],\n",
    "        'Count', [sum(party_gender.column('D')), sum(party_gender.column('R')), sum(party_gender.column('DS'))]\n",
    "    ])\n",
    "# Print counts\n",
    "print('Total Democrats: ', totals['Count'][0])\n",
    "print('Total Republicans: ', totals['Count'][1])\n",
    "print('Total Did Not State: ', totals['Count'][2])\n",
    "\n",
    "# Create bar graph \n",
    "totals.barh('Party')"
   ]
  },
  {
   "cell_type": "code",
   "execution_count": null,
   "metadata": {
    "collapsed": false
   },
   "outputs": [],
   "source": [
    "# Table for number of Females/Males per Party\n",
    "pg = party_gender.select(['Gender','D','R','DS']).group('Gender', collect=sum)\n",
    "pg = pg.relabeled('D sum', 'D').relabeled('R sum', 'R').relabeled('DS sum', 'DS')\n",
    "pg = Table().with_columns([\"Party\", [\"Democrat\", \"Republican\", \"Did not state\"],\n",
    "                          \"Male\", pg.row(0)[1:],\n",
    "                          \"Female\", pg.row(1)[1:]])\n",
    "pg"
   ]
  },
  {
   "cell_type": "code",
   "execution_count": null,
   "metadata": {
    "collapsed": false
   },
   "outputs": [],
   "source": [
    "pg.barh(\"Party\")"
   ]
  },
  {
   "cell_type": "markdown",
   "metadata": {},
   "source": [
    "## Vote By Mail Demo ##\n",
    "\n",
    "### Submission Time Key\n",
    "AE -\tAlways early\n",
    "\n",
    "SE -\tSometimes Early\n",
    "\n",
    "EL -\tEarly or Late\n",
    "\n",
    "SL -\tSometimes Late\n",
    "\n",
    "AL -\tAlways Late"
   ]
  },
  {
   "cell_type": "code",
   "execution_count": null,
   "metadata": {
    "collapsed": true
   },
   "outputs": [],
   "source": [
    "vbm_age_time = 'AE'"
   ]
  },
  {
   "cell_type": "code",
   "execution_count": null,
   "metadata": {
    "collapsed": false
   },
   "outputs": [],
   "source": [
    "vbm_age = Table().read_table(\"VBM_age.csv\").relabeled('Unnamed: 0', 'Age')\n",
    "vbm_age.where(vbm_age['Submission Time'] == vbm_age_time)"
   ]
  },
  {
   "cell_type": "code",
   "execution_count": null,
   "metadata": {
    "collapsed": false
   },
   "outputs": [],
   "source": [
    "vbm_age.drop('Submission Time').barh('Age')"
   ]
  },
  {
   "cell_type": "code",
   "execution_count": null,
   "metadata": {
    "collapsed": true
   },
   "outputs": [],
   "source": []
  }
 ],
 "metadata": {
  "anaconda-cloud": {},
  "kernelspec": {
   "display_name": "Python [default]",
   "language": "python",
   "name": "python3"
  },
  "language_info": {
   "codemirror_mode": {
    "name": "ipython",
    "version": 3
   },
   "file_extension": ".py",
   "mimetype": "text/x-python",
   "name": "python",
   "nbconvert_exporter": "python",
   "pygments_lexer": "ipython3",
   "version": "3.5.2"
  }
 },
 "nbformat": 4,
 "nbformat_minor": 0
}
