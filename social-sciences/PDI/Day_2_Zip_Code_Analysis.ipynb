{
 "cells": [
  {
   "cell_type": "markdown",
   "metadata": {},
   "source": [
    "# Individual Zip Code Analysis#\n",
    "\n",
    "Now that you've seen a basic analysis over general data, you will to look at data from your <b>own zipcode</b> and test the predictions you made in the previous notebook.\n",
    "\n",
    "## A Few Reminders\n",
    "\n",
    "* Each block of code or text is called a \"cell\"\n",
    "* To select a cell, click on it. You should see an outline around the cell you have selected. To edit a cell, double click it (you'll be doing this to answer questions).\n",
    "* To run a cell, first select it, then hold down shift and press enter. That's it!\n",
    "* It's important to run cells in order, starting from the top of the notebook. All of the code works together, and relies on being run in the correct order for everything to work!\n",
    "* Don't hesitate to ask questions, whether about how to use the notebook, about the data set, or anything else related!\n",
    "\n",
    "## The Data\n",
    "\n",
    "In this notebook, you'll be working with data from your own home zip code. This data was collected from<a href = http://politicaldata.com/>Political Data, Inc.</a> and features demographics such as <b>age</b>, <b>gender</b>, and <b>ethnicity</b>. You will also get to work with data for people who vote by mail, and analyze possible relationships between certain demographics and submission time. \n",
    "\n",
    "## Goals\n",
    "\n",
    "By working through this notebook, you will:\n",
    "* Test the predictions you've made previously on your own home zip code\n",
    "* Form theories about voter tendencies \n",
    "* Analyze data, and use it to support your predictions\n",
    "\n",
    "## Before You Begin\n",
    "Think about and add to the predictions you made on Monday about possible voting trends in your home area based on certain demographics. List them out here. "
   ]
  },
  {
   "cell_type": "markdown",
   "metadata": {},
   "source": [
    "ANSWER: (answer here)"
   ]
  },
  {
   "cell_type": "code",
   "execution_count": null,
   "metadata": {
    "collapsed": true
   },
   "outputs": [],
   "source": [
    "# Import some useful libraries\n",
    "from datascience import * \n",
    "import numpy as np\n",
    "import matplotlib "
   ]
  },
  {
   "cell_type": "markdown",
   "metadata": {},
   "source": [
    "## IMPORTANT: Input your zipcode in next cell\n",
    "In order to get the data for your own zip code, make sure to change  'YOUR ZIPCODE' to your own home zipcode."
   ]
  },
  {
   "cell_type": "code",
   "execution_count": null,
   "metadata": {
    "collapsed": true
   },
   "outputs": [],
   "source": [
    "# Replace 'YOUR ZIPCODE' with your own zip code (i.e. 92603, 94704)\n",
    "# zipcode = 'YOUR ZIPCODE'\n",
    "zipcode = 92603"
   ]
  },
  {
   "cell_type": "markdown",
   "metadata": {},
   "source": [
    "### Party v Race ###\n",
    "Running the following two cells displays a table and a bar graph of the breakdown of Democrats and Republicans per stated race in your zipcode. Notice that there are high counts listed under 'No Ethnic ID'."
   ]
  },
  {
   "cell_type": "code",
   "execution_count": null,
   "metadata": {
    "collapsed": false
   },
   "outputs": [],
   "source": [
    "# Generates table of the number of democrats/republicans per race in your zipcode \n",
    "party_race = Table().read_table(\"Party v Race.csv\")\n",
    "party_race = party_race.where(party_race['Zip'] == zipcode).group('Race',sum)\n",
    "party_race = party_race.relabeled('D sum', 'Democrat').relabeled('R sum', 'Republican').drop('Zip sum')\n",
    "party_race.show()"
   ]
  },
  {
   "cell_type": "code",
   "execution_count": null,
   "metadata": {
    "collapsed": false
   },
   "outputs": [],
   "source": [
    "# Generates bar graph of # democrats/republicans per race for your zipcode \n",
    "party_race.drop('Zip').barh('Race')"
   ]
  },
  {
   "cell_type": "markdown",
   "metadata": {},
   "source": [
    "### Party v Gender \n",
    "Running the following two cells displays a table and bar graph of the number of Males and Females per major party in your zipcode."
   ]
  },
  {
   "cell_type": "code",
   "execution_count": null,
   "metadata": {
    "collapsed": false
   },
   "outputs": [],
   "source": [
    "party_gender = Table().read_table(\"Party v Gender.csv\")\n",
    "party_gender = party_gender.where(party_gender['Zipcode'] == zipcode).drop('Zipcode')\n",
    "pg = Table().with_columns([\"Party\", [\"Democrat\", \"Republican\", \"Did not state\"],\n",
    "                          \"Male\", party_gender.row(0)[1:],\n",
    "                          \"Female\", party_gender.row(1)[1:]])\n",
    "pg"
   ]
  },
  {
   "cell_type": "code",
   "execution_count": null,
   "metadata": {
    "collapsed": false
   },
   "outputs": [],
   "source": [
    "# Generates bar graph of # democrats/republicans/did not state per gender in your zipcode \n",
    "pg.barh(\"Party\")"
   ]
  },
  {
   "cell_type": "markdown",
   "metadata": {},
   "source": [
    "### Party v Age \n",
    "Running the following two cells displays a table and bar graph of the number of people in each age group per major party in your zipcode."
   ]
  },
  {
   "cell_type": "code",
   "execution_count": null,
   "metadata": {
    "collapsed": false
   },
   "outputs": [],
   "source": [
    "# Generates table of # democrats/republicans/did not state per age group for your zipcode \n",
    "party_age = Table().read_table(\"Party v Age.csv\")\n",
    "party_age = party_age.where(party_age['Zip'] == zipcode).drop(\"Zip\")\n",
    "party_age.show()"
   ]
  },
  {
   "cell_type": "code",
   "execution_count": null,
   "metadata": {
    "collapsed": false
   },
   "outputs": [],
   "source": [
    "# Generates bar graph of # democrats/republicans/did not state per age group for your zipcode \n",
    "party_age.drop('Zip').barh('Age')"
   ]
  },
  {
   "cell_type": "markdown",
   "metadata": {},
   "source": [
    "## Data Analysis\n",
    "Now that you've been exposed to data from your own zip code, you can now test your hypothesis and draw conclusions. Using the data shown above about your home zipcode, compare your previous predictions on how people in your area vote and general trends to the actual data.\n",
    "1. How does your hypothesis of how voters in your area will vote change or expand? \n",
    "2. Which demographic do you think is the most impactful in your area? "
   ]
  },
  {
   "cell_type": "markdown",
   "metadata": {},
   "source": [
    "Answers:\n",
    "1. (answer to 1. here)\n",
    "2. (answer to 2. here)"
   ]
  },
  {
   "cell_type": "markdown",
   "metadata": {},
   "source": [
    "# Vote By Mail Data Analysis\n",
    "We will now introduce additional data that could help you understand more about voting trends and demographic impacts. This set of data is based on people who always vote by mail, and is further sectioned by demographics and submission time."
   ]
  },
  {
   "cell_type": "markdown",
   "metadata": {},
   "source": [
    "### Submission Time Key"
   ]
  },
  {
   "cell_type": "markdown",
   "metadata": {},
   "source": [
    "AE -\tAlways early\n",
    "\n",
    "SE -\tSometimes Early\n",
    "\n",
    "EL -\tEarly or Late\n",
    "\n",
    "SL -\tSometimes Late\n",
    "\n",
    "AL -\tAlways Late"
   ]
  },
  {
   "cell_type": "markdown",
   "metadata": {},
   "source": [
    "### Submission Time v Age\n",
    "This data counts number per party in each age group. To look at data for a specific submission time, change the following variable called `vbm_age_time` to be one of the abbreviated submission times listed in the key above (i.e. 'AE' or 'SE')"
   ]
  },
  {
   "cell_type": "code",
   "execution_count": null,
   "metadata": {
    "collapsed": true
   },
   "outputs": [],
   "source": [
    "# Update this variable to submission time to see data for the various submission times listed in the key above\n",
    "vbm_age_time = 'AE'"
   ]
  },
  {
   "cell_type": "code",
   "execution_count": null,
   "metadata": {
    "collapsed": false
   },
   "outputs": [],
   "source": [
    "# Table of # democrats, republicans, did not state/other per age group for input submission time \n",
    "vbm_age = Table().read_table(\"VBM_age.csv\").relabeled('Unnamed: 0', 'Age')\n",
    "vbm_age.where(vbm_age['Submission Time'] == vbm_age_time).show()"
   ]
  },
  {
   "cell_type": "code",
   "execution_count": null,
   "metadata": {
    "collapsed": false
   },
   "outputs": [],
   "source": [
    "# Bar graph of # democrats, republicans, did not state/other per age group for input submission time \n",
    "vbm_age_bar = vbm_age.where(vbm_age['Submission Time'] == vbm_age_time)\n",
    "vbm_age_bar.drop('Submission Time').barh('Age')"
   ]
  },
  {
   "cell_type": "markdown",
   "metadata": {},
   "source": [
    "Look at the data using all the different submission times by changing the variable `vbm_age_time` above and re running the cells starting from that one. Are there trends or relationships between submission time and age for people who vote by mail? Can this be connected to the earlier data on your own zip code about party and age to make further inferences?"
   ]
  },
  {
   "cell_type": "markdown",
   "metadata": {},
   "source": [
    "ANSWER: (answer here)"
   ]
  },
  {
   "cell_type": "markdown",
   "metadata": {},
   "source": [
    "### Submission Time v Gender\n",
    "This data counts number per party for male/female. To look at data for a specific submission time, change the following variable called `vbm_gender_time` to be one of the abbreviated submission times listed in the key above (i.e. 'AE' or 'SE')"
   ]
  },
  {
   "cell_type": "code",
   "execution_count": null,
   "metadata": {
    "collapsed": true
   },
   "outputs": [],
   "source": [
    "vbm_gender_time = 'AE'"
   ]
  },
  {
   "cell_type": "code",
   "execution_count": null,
   "metadata": {
    "collapsed": false
   },
   "outputs": [],
   "source": [
    "# Table of # democrats, republicans, did not state/other per gender for input submission time \n",
    "vbm_gender = Table().read_table(\"VBM_gender.csv\")\n",
    "vbm_gender.where(vbm_gender['Submission Time'] == vbm_gender_time)"
   ]
  },
  {
   "cell_type": "code",
   "execution_count": null,
   "metadata": {
    "collapsed": false
   },
   "outputs": [],
   "source": [
    "# Bar graph of # democrats, republicans, did not state/other per age group for input submission time \n",
    "vbm_gender_time = vbm_gender.where(vbm_gender['Submission Time'] == vbm_gender_time).drop('Submission Time')\n",
    "vgt = Table().with_columns([\"Party\", [\"Democrat\", \"Republican\", \"Did not state\"],\n",
    "                          \"Male\", vbm_gender_time.row(0)[1:],\n",
    "                          \"Female\", vbm_gender_time.row(1)[1:],\n",
    "                          \"Other\", vbm_gender_time.row(2)[1:]])\n",
    "vgt.barh('Party')"
   ]
  },
  {
   "cell_type": "markdown",
   "metadata": {},
   "source": [
    "Look at the data using all the different submission times by changing the variable `vbm_gender_time` above and re running the cells starting from that one. Are there trends or relationships between submission time and gender for people who vote by mail? Can this be connected to the earlier data on your own zip code about party and gender to make further inferences?"
   ]
  },
  {
   "cell_type": "markdown",
   "metadata": {},
   "source": [
    "ANSWER: (answer here)"
   ]
  },
  {
   "cell_type": "code",
   "execution_count": null,
   "metadata": {
    "collapsed": true
   },
   "outputs": [],
   "source": []
  }
 ],
 "metadata": {
  "anaconda-cloud": {},
  "kernelspec": {
   "display_name": "Python [default]",
   "language": "python",
   "name": "python3"
  },
  "language_info": {
   "codemirror_mode": {
    "name": "ipython",
    "version": 3
   },
   "file_extension": ".py",
   "mimetype": "text/x-python",
   "name": "python",
   "nbconvert_exporter": "python",
   "pygments_lexer": "ipython3",
   "version": "3.5.2"
  }
 },
 "nbformat": 4,
 "nbformat_minor": 0
}
