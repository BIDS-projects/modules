{
 "cells": [
  {
   "cell_type": "markdown",
   "metadata": {},
   "source": [
    "# Introduction\n",
    "\n",
    "This is an iPython notebook! An iPython notebook allows us to run code (Python), display graphs, and record analysis all in one place!\n",
    "\n",
    "## Quick Start Guide\n",
    "\n",
    "* Each block of code or text is called a \"cell\"\n",
    "* To select a cell, click on it. You should see an outline around the cell you have selected. To edit a cell, double click it (you'll be doing this to answer questions).\n",
    "* To run a cell, first select it, then hold down shift and press enter. That's it!\n",
    "* It's important to run cells in order, starting from the top of the notebook. All of the code works together, and relies on being run in the correct order for everything to work!\n",
    "\n",
    "## The Data\n",
    "\n",
    "In this notebook, you'll be working with a poll relating to the upcoming Presidential election. The results detail support for each of the two leading candidates (Hillary Clinton and Donald Trump) among a variety of demographics. The poll itself comes from Pew Research Center, and we recommend reading their analysis on the same data set once you've done your own! Find that <a href = http://www.people-press.org/2016/08/18/clinton-trump-supporters-have-starkly-different-views-of-a-changing-nation/> here</a>.\n",
    "\n",
    "## Assignment Guide\n",
    "\n",
    "This notebook is meant to be completed beginning from the top, only running one cell at a time. The code cells will have comments (denoted by a hashtag) for you to read to get an idea of what's going on. The text cells will have instructions, questions, and space for you to answer and write up your own analysis! Some cells will display charts when you run them, and we have designed the notebook such that each question should be completed in order prior to moving on. Don't hesitate to ask questions, whether about how to use the notebook, about the data set, or anything else related!\n",
    "\n",
    "## Goals\n",
    "\n",
    "By working through this notebook, you will:\n",
    "* Gain experience working with Python (no coding knowledge required)\n",
    "* Make predictions based on previous knowledge of your own home zip code\n",
    "* Form theories about voter tendencies and the election as a whole\n",
    "* Analyze data, and use it to support your claims!\n"
   ]
  },
  {
   "cell_type": "code",
   "execution_count": null,
   "metadata": {
    "collapsed": false
   },
   "outputs": [],
   "source": [
    "#Before getting started, we're going to import some useful libraries\n",
    "\n",
    "#NumPy extends Python for math related operations.\n",
    "import numpy as np\n",
    "#DataScience was actually custom written here at UC Berkeley, for data science courses!\n",
    "#This library helps us process data from spreadsheets.\n",
    "from datascience import *\n",
    "#Matplotlib allows us to more easily create charts\n",
    "import matplotlib\n",
    "from datascience import Table\n",
    "%matplotlib inline\n",
    "import matplotlib.pyplot as plt\n",
    "plt.style.use('fivethirtyeight')\n",
    "#notes to update: some new types of graphics, more questions for each graph\n",
    "#relevant articles\n",
    "#lead into data visualizations with articles, then show the actual charts\n",
    "#add basic explanation on how to use ipynb\n",
    "#create function that takes in 2 criteria and make a pivot table\n",
    "#huffington post poll data with relative frequency over time"
   ]
  },
  {
   "cell_type": "code",
   "execution_count": null,
   "metadata": {
    "collapsed": false
   },
   "outputs": [],
   "source": [
    "#Here, we're transferring the data from a spreadsheet to the notebook\n",
    "pollData = Table().read_table(\"Poll_Data.csv\")"
   ]
  },
  {
   "cell_type": "markdown",
   "metadata": {},
   "source": [
    "For each demo:\n",
    "\n",
    "Does the poll data match what you would expect?\n",
    "\n",
    "For each chart below, form a conclusion about how impactful/important each demographic is.\n",
    "\n",
    "Use the poll data and the demographic data from your own zip code, and reason about which candidate would be more likely to have support in your home zip code (based on the data). What factors do you think are the most important? Form a hypothesis relating to demographics and support for a certain candidate. \n"
   ]
  },
  {
   "cell_type": "markdown",
   "metadata": {},
   "source": [
    "## Part 1: What you already know\n",
    "Based on your knowledge of the political landscape (not yet using the data set), please answer the following questions."
   ]
  },
  {
   "cell_type": "markdown",
   "metadata": {},
   "source": [
    "1. Rank the following demographics in order of most polarizing to least polarizing: gender, ethnicity, age, education, party affiliation. For example, if you believe that the starkest contrast would be between those with more schooling and those with less schooling, list education first.\n",
    "\n",
    "2. Based on your answer to question 1, form a hypothesis regarding how to guess a voter's preference. For example, building on the sample answer from the last part, \"If a voter has completed post graduate education, then they will vote for (candidate).\" Limit your hypothesis to only a few demographic factors, so that it can be applied generally.\n",
    "\n",
    "3. From your knowledge of the demographics of your home zip code, which candidate do you believe would win? Apply your hypothesis from question 2."
   ]
  },
  {
   "cell_type": "markdown",
   "metadata": {},
   "source": [
    "Answers:\n",
    "1. (answer to 1. here)\n",
    "2. (answer to 2. here)\n",
    "3. (answer to 3. here)"
   ]
  },
  {
   "cell_type": "markdown",
   "metadata": {},
   "source": [
    "## Part 2: Observe the Data\n",
    "\n",
    "Now, take a look at the poll data. For each cell, run it (shift enter after clicking) once you've taken a quick look at the code. Write down any observations you have for each chart."
   ]
  },
  {
   "cell_type": "code",
   "execution_count": null,
   "metadata": {
    "collapsed": false
   },
   "outputs": [],
   "source": [
    "#This next line filters out the poll data to include only gender data.\n",
    "genderPollData = pollData.select([\"Men\", \"Women\"])\n",
    "#The following line displays our filtered data, with the listed labels.\n",
    "genderPollData.barh([\"% for Clinton\", \"% for Trump\"])"
   ]
  },
  {
   "cell_type": "markdown",
   "metadata": {},
   "source": [
    "Observations:"
   ]
  },
  {
   "cell_type": "code",
   "execution_count": null,
   "metadata": {
    "collapsed": false,
    "scrolled": true
   },
   "outputs": [],
   "source": [
    "#This next line filters out the poll data to include only ethnicity data.\n",
    "ethnicityPollData = pollData.select([\"White\", \"Black\", \"Hispanic\"])\n",
    "#The following line displays our filtered data, with the listed labels.\n",
    "ethnicityPollData.barh([\"% for Clinton\", \"% for Trump\"])"
   ]
  },
  {
   "cell_type": "markdown",
   "metadata": {},
   "source": []
  },
  {
   "cell_type": "code",
   "execution_count": null,
   "metadata": {
    "collapsed": false
   },
   "outputs": [],
   "source": [
    "#This next line filters out the poll data to include only age data.\n",
    "agePollData = pollData.select([\"18 to 29\", \"30 to 49\", \"50 to 64\", \"65 and older\"])\n",
    "#The following line displays our filtered data, with the listed labels.\n",
    "agePollData.barh([\"% for Clinton\", \"% for Trump\"])"
   ]
  },
  {
   "cell_type": "markdown",
   "metadata": {},
   "source": [
    "Observations: "
   ]
  },
  {
   "cell_type": "code",
   "execution_count": null,
   "metadata": {
    "collapsed": false
   },
   "outputs": [],
   "source": [
    "#This next line filters out the poll data to include only education data.\n",
    "eduPollData = pollData.select([\"Postgrad\", \"College Grad\", \"Some College\", \"HS or Less\"])\n",
    "#The following line displays our filtered data, with the listed labels.\n",
    "eduPollData.barh([\"% for Clinton\", \"% for Trump\"])"
   ]
  },
  {
   "cell_type": "markdown",
   "metadata": {},
   "source": [
    "Observations: "
   ]
  },
  {
   "cell_type": "code",
   "execution_count": null,
   "metadata": {
    "collapsed": false
   },
   "outputs": [],
   "source": [
    "#This next line filters out the poll data to include only party data.\n",
    "partyPollData = pollData.select([\"Rep or Lean Rep\", \"Dem or Lean Dem\"])\n",
    "#The following line displays our filtered data, with the listed labels.\n",
    "partyPollData.barh([\"% for Clinton\", \"% for Trump\"])"
   ]
  },
  {
   "cell_type": "markdown",
   "metadata": {},
   "source": [
    "Observations: "
   ]
  },
  {
   "cell_type": "markdown",
   "metadata": {},
   "source": [
    "## Part 3: Apply the data\n",
    "\n",
    "Now, answer the same questions from Part 1 using the charts above.\n",
    "\n",
    "1. Rank the following demographics in order of most polarizing to least polarizing: gender, ethnicity, age, education, party affiliation. For example, if you believe that the starkest contrast would be between those with more schooling and those with less schooling, list education first.\n",
    "\n",
    "2. Based on your answer to 1, form a hypothesis regarding how to guess a voter's preference. For example, building on the sample answer from the last part, \"If a voter has completed post graduate education, then they will vote for (candidate).\" Limit your hypothesis to only a few demographic factors, so that it can be applied generally."
   ]
  },
  {
   "cell_type": "markdown",
   "metadata": {},
   "source": [
    "Answers:\n",
    "1. (answer to 1. here)\n",
    "2. (answer to 2. here)"
   ]
  },
  {
   "cell_type": "markdown",
   "metadata": {},
   "source": [
    "## Part 4: Comparisons\n",
    "\n",
    "1. Did your answers between Parts 1 and 3 differ? If so, how?\n",
    "2. Now, apply your hypothesis from Part 3 to your home zip code to predict how voters in your area will vote. If your hypothesis is correct, who would win? How would the predicted result change if your hypothesis changed? What demographics seem to be the most impactful in your community?"
   ]
  },
  {
   "cell_type": "markdown",
   "metadata": {},
   "source": [
    "Answers:\n",
    "1. (answer to 1. here)\n",
    "2. (answer to 2. here)"
   ]
  }
 ],
 "metadata": {
  "anaconda-cloud": {},
  "kernelspec": {
   "display_name": "Python [default]",
   "language": "python",
   "name": "python3"
  },
  "language_info": {
   "codemirror_mode": {
    "name": "ipython",
    "version": 3
   },
   "file_extension": ".py",
   "mimetype": "text/x-python",
   "name": "python",
   "nbconvert_exporter": "python",
   "pygments_lexer": "ipython3",
   "version": "3.5.2"
  }
 },
 "nbformat": 4,
 "nbformat_minor": 0
}
