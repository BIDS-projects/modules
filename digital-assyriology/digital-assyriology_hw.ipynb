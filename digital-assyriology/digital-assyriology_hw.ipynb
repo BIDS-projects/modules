{
 "cells": [
  {
   "cell_type": "code",
   "execution_count": 1,
   "metadata": {
    "collapsed": false
   },
   "outputs": [
    {
     "name": "stdout",
     "output_type": "stream",
     "text": [
      "Populating the interactive namespace from numpy and matplotlib\n"
     ]
    }
   ],
   "source": [
    "%pylab inline\n",
    "from datascience import *\n",
    "import pandas as pd\n",
    "import numpy as np\n",
    "import os\n",
    "import re"
   ]
  },
  {
   "cell_type": "markdown",
   "metadata": {},
   "source": [
    "# Basics    :  \n",
    "\n",
    "## These import the helper functions and lists that we want \n",
    "\n",
    "-term_finder(): takes a line and returns the term between the square brackets (definition)\n",
    "-proper_noun_finder(): takes a line and returns the nouns for a line in a list\n",
    "-speech_article_finder(): takes a line and returns the speech articles for that line in order, either only proper nouns or all."
   ]
  },
  {
   "cell_type": "code",
   "execution_count": 2,
   "metadata": {
    "collapsed": true
   },
   "outputs": [],
   "source": [
    "def term_finder (line):\n",
    "    #returns the meanings of words in a line of text\n",
    "    terms = re.findall(r\"(?<=\\[)(.*?)(?=\\])\", line)\n",
    "    return terms\n",
    "\n",
    "def proper_noun_finder(line):\n",
    "    #returns a list of all the proper nouns in a line of text\n",
    "    nouns = re.findall(r\"(?<=\\:)(.*?)(?=\\[)\", line)\n",
    "    nouns = [word for word in nouns if (len(word) > 1 and word[0].isupper() and not word[1].isupper())]\n",
    "    return nouns\n",
    "\n",
    "def speech_article_finder(line, proper_noun_filter = True):\n",
    "    #returns the speech articles for proper_nouns or all words\n",
    "    terms = re.findall(r\"(?<=\\])(.*?)(?=\\s)\", line)\n",
    "    if proper_noun_filter:\n",
    "        articles = [term for term in terms if term in proper_nouns]\n",
    "    else: \n",
    "        articles = terms\n",
    "    return articles\n",
    "\n",
    "proper_nouns = {  #All Proper nouns (things marked with a [1])\n",
    "'CN': 'Constellation Name (star)',\n",
    "'DN': 'Deity Name',\n",
    "'EN': 'Ethnicity Name',\n",
    "'FN': 'Field Name',\n",
    "'GN': 'Geographical Name (for regions and countries)',\n",
    "'MN': 'Month Name',\n",
    "'ON': 'Object Name (usually for objects associated with a god)',\n",
    "'PN': 'Personal Name',\n",
    "'RN': 'Royal Name',\n",
    "'SN': 'Settlement Name',\n",
    "'TN': 'Temple Name',\n",
    "'WN': 'Water Name',\n",
    "}\n",
    "\n",
    "simple_terms = {  #All other terms that we've seen but that are not names.\n",
    "'AJ': 'Adjective',\n",
    "'AV': 'Adverb',\n",
    "'C': 'Conjunction',\n",
    "'N': 'Noun',\n",
    "'NU': 'Number',\n",
    "'PD': 'Part of Speech',\n",
    "'V': 'Verb',\n",
    "}"
   ]
  },
  {
   "cell_type": "markdown",
   "metadata": {},
   "source": [
    "## Importing your own table\n",
    "\n",
    "Insert the full name of the table in the underline below. \n",
    "\n",
    "This will then capture the special terms described above and add a column of them to the table"
   ]
  },
  {
   "cell_type": "code",
   "execution_count": null,
   "metadata": {
    "collapsed": true
   },
   "outputs": [],
   "source": [
    "text_table = Table.read_table('Enmerkar.txt', sep = ',') ### NEED FILES NAMES between folders\n",
    "text_table"
   ]
  },
  {
   "cell_type": "code",
   "execution_count": null,
   "metadata": {
    "collapsed": true,
    "for_assignment_type": "student"
   },
   "outputs": [],
   "source": [
    "text_table = Table.read_table(..., sep = ',') # Fill in the ... with the name of the table.\n",
    "text_table"
   ]
  },
  {
   "cell_type": "code",
   "execution_count": 10,
   "metadata": {
    "collapsed": false
   },
   "outputs": [
    {
     "data": {
      "text/html": [
       "<table border=\"1\" class=\"dataframe\">\n",
       "    <thead>\n",
       "        <tr>\n",
       "            <th>etcsl_no</th> <th>text_name</th> <th>l_no</th> <th>text</th>\n",
       "        </tr>\n",
       "    </thead>\n",
       "    <tbody>\n",
       "        <tr>\n",
       "            <td>c.1.8.2.4</td> <td>Enmerkar and En-suhgir-ana</td> <td>1   </td> <td>sux:šeg₁₂[brick(work)]N sux:kur[(mountain) land]N sux:šu ...</td>\n",
       "        </tr>\n",
       "    </tbody>\n",
       "        <tr>\n",
       "            <td>c.1.8.2.4</td> <td>Enmerkar and En-suhgir-ana</td> <td>2   </td> <td>sux:Kulaba[1]SN sux:iri[town]N sux:an[heaven]N sux:ki[pl ...</td>\n",
       "        </tr>\n",
       "    </tbody>\n",
       "        <tr>\n",
       "            <td>c.1.8.2.4</td> <td>Enmerkar and En-suhgir-ana</td> <td>3   </td> <td>sux:Unug[1]SN sux:mu[name]N sux:tir-an-na[rainbow]N         </td>\n",
       "        </tr>\n",
       "    </tbody>\n",
       "        <tr>\n",
       "            <td>c.1.8.2.4</td> <td>Enmerkar and En-suhgir-ana</td> <td>4   </td> <td>sux:an[heaven]N sux:us₂[to be adjacent]V sux:si-muš₃[bri ...</td>\n",
       "        </tr>\n",
       "    </tbody>\n",
       "        <tr>\n",
       "            <td>c.1.8.2.4</td> <td>Enmerkar and En-suhgir-ana</td> <td>5   </td> <td>sux:an[heaven]N sux:gub[to stand]V sux:ud-sakar[crescent ...</td>\n",
       "        </tr>\n",
       "    </tbody>\n",
       "        <tr>\n",
       "            <td>c.1.8.2.4</td> <td>Enmerkar and En-suhgir-ana</td> <td>6   </td> <td>sux:me[essence]N sux:gal[to be big]V sux:nam-nun[princel ...</td>\n",
       "        </tr>\n",
       "    </tbody>\n",
       "        <tr>\n",
       "            <td>c.1.8.2.4</td> <td>Enmerkar and En-suhgir-ana</td> <td>7   </td> <td>sux:kur[(mountain) land]N sux:sikil[to be pure]V sux:ud[ ...</td>\n",
       "        </tr>\n",
       "    </tbody>\n",
       "        <tr>\n",
       "            <td>c.1.8.2.4</td> <td>Enmerkar and En-suhgir-ana</td> <td>8   </td> <td>sux:itid[moon(light)]N sux:kalam[the Land]N sux:e₃[to go ...</td>\n",
       "        </tr>\n",
       "    </tbody>\n",
       "        <tr>\n",
       "            <td>c.1.8.2.4</td> <td>Enmerkar and En-suhgir-ana</td> <td>9   </td> <td>sux:ud[day(light)]N sux:zalag[to be shining]V sux:kalam[ ...</td>\n",
       "        </tr>\n",
       "    </tbody>\n",
       "        <tr>\n",
       "            <td>c.1.8.2.4</td> <td>Enmerkar and En-suhgir-ana</td> <td>10  </td> <td>sux:ab₂-ur₃[rear cow]N sux:ab₂-saharₓ[type of cow]N sux: ...</td>\n",
       "        </tr>\n",
       "    </tbody>\n",
       "</table>\n",
       "<p>... (285 rows omitted)</p"
      ],
      "text/plain": [
       "etcsl_no  | text_name                  | l_no | text\n",
       "c.1.8.2.4 | Enmerkar and En-suhgir-ana | 1    | sux:šeg₁₂[brick(work)]N sux:kur[(mountain) land]N sux:šu ...\n",
       "c.1.8.2.4 | Enmerkar and En-suhgir-ana | 2    | sux:Kulaba[1]SN sux:iri[town]N sux:an[heaven]N sux:ki[pl ...\n",
       "c.1.8.2.4 | Enmerkar and En-suhgir-ana | 3    | sux:Unug[1]SN sux:mu[name]N sux:tir-an-na[rainbow]N\n",
       "c.1.8.2.4 | Enmerkar and En-suhgir-ana | 4    | sux:an[heaven]N sux:us₂[to be adjacent]V sux:si-muš₃[bri ...\n",
       "c.1.8.2.4 | Enmerkar and En-suhgir-ana | 5    | sux:an[heaven]N sux:gub[to stand]V sux:ud-sakar[crescent ...\n",
       "c.1.8.2.4 | Enmerkar and En-suhgir-ana | 6    | sux:me[essence]N sux:gal[to be big]V sux:nam-nun[princel ...\n",
       "c.1.8.2.4 | Enmerkar and En-suhgir-ana | 7    | sux:kur[(mountain) land]N sux:sikil[to be pure]V sux:ud[ ...\n",
       "c.1.8.2.4 | Enmerkar and En-suhgir-ana | 8    | sux:itid[moon(light)]N sux:kalam[the Land]N sux:e₃[to go ...\n",
       "c.1.8.2.4 | Enmerkar and En-suhgir-ana | 9    | sux:ud[day(light)]N sux:zalag[to be shining]V sux:kalam[ ...\n",
       "c.1.8.2.4 | Enmerkar and En-suhgir-ana | 10   | sux:ab₂-ur₃[rear cow]N sux:ab₂-saharₓ[type of cow]N sux: ...\n",
       "... (285 rows omitted)"
      ]
     },
     "execution_count": 10,
     "metadata": {},
     "output_type": "execute_result"
    }
   ],
   "source": []
  },
  {
   "cell_type": "code",
   "execution_count": 11,
   "metadata": {
    "collapsed": false
   },
   "outputs": [
    {
     "data": {
      "text/plain": [
       "'text'"
      ]
     },
     "execution_count": 11,
     "metadata": {},
     "output_type": "execute_result"
    }
   ],
   "source": [
    "text_table.labels[3]"
   ]
  },
  {
   "cell_type": "code",
   "execution_count": 12,
   "metadata": {
    "collapsed": false
   },
   "outputs": [
    {
     "data": {
      "text/html": [
       "<table border=\"1\" class=\"dataframe\">\n",
       "    <thead>\n",
       "        <tr>\n",
       "            <th>l_no</th> <th>text</th> <th>terms</th> <th>proper_nouns</th> <th>speech_articles</th>\n",
       "        </tr>\n",
       "    </thead>\n",
       "    <tbody>\n",
       "        <tr>\n",
       "            <td>1   </td> <td>sux:šeg₁₂[brick(work)]N sux:kur[(mountain) land]N sux:šu ...</td> <td>['brick(work)', '(mountain) land', 'shining', 'to go out ...</td> <td>[]          </td> <td>[]             </td>\n",
       "        </tr>\n",
       "    </tbody>\n",
       "        <tr>\n",
       "            <td>2   </td> <td>sux:Kulaba[1]SN sux:iri[town]N sux:an[heaven]N sux:ki[pl ...</td> <td>['1', 'town', 'heaven', 'place', 'to grow']                 </td> <td>['Kulaba']  </td> <td>['SN']         </td>\n",
       "        </tr>\n",
       "    </tbody>\n",
       "        <tr>\n",
       "            <td>3   </td> <td>sux:Unug[1]SN sux:mu[name]N sux:tir-an-na[rainbow]N         </td> <td>['1', 'name', 'rainbow']                                    </td> <td>['Unug']    </td> <td>['SN']         </td>\n",
       "        </tr>\n",
       "    </tbody>\n",
       "        <tr>\n",
       "            <td>4   </td> <td>sux:an[heaven]N sux:us₂[to be adjacent]V sux:si-muš₃[bri ...</td> <td>['heaven', 'to be adjacent', 'brilliance', 'to be multic ...</td> <td>[]          </td> <td>[]             </td>\n",
       "        </tr>\n",
       "    </tbody>\n",
       "        <tr>\n",
       "            <td>5   </td> <td>sux:an[heaven]N sux:gub[to stand]V sux:ud-sakar[crescent ...</td> <td>['heaven', 'to stand', 'crescent (moon)', 'to be new', ' ...</td> <td>[]          </td> <td>[]             </td>\n",
       "        </tr>\n",
       "    </tbody>\n",
       "        <tr>\n",
       "            <td>6   </td> <td>sux:me[essence]N sux:gal[to be big]V sux:nam-nun[princel ...</td> <td>['essence', 'to be big', 'princeliness', 'to erect']        </td> <td>[]          </td> <td>[]             </td>\n",
       "        </tr>\n",
       "    </tbody>\n",
       "        <tr>\n",
       "            <td>7   </td> <td>sux:kur[(mountain) land]N sux:sikil[to be pure]V sux:ud[ ...</td> <td>['(mountain) land', 'to be pure', 'day(light)', 'to be g ...</td> <td>[]          </td> <td>[]             </td>\n",
       "        </tr>\n",
       "    </tbody>\n",
       "        <tr>\n",
       "            <td>8   </td> <td>sux:itid[moon(light)]N sux:kalam[the Land]N sux:e₃[to go ...</td> <td>['moon(light)', 'the Land', 'to go out or in']              </td> <td>[]          </td> <td>[]             </td>\n",
       "        </tr>\n",
       "    </tbody>\n",
       "        <tr>\n",
       "            <td>9   </td> <td>sux:ud[day(light)]N sux:zalag[to be shining]V sux:kalam[ ...</td> <td>['day(light)', 'to be shining', 'the Land', 'horn', 'to  ...</td> <td>[]          </td> <td>[]             </td>\n",
       "        </tr>\n",
       "    </tbody>\n",
       "        <tr>\n",
       "            <td>10  </td> <td>sux:ab₂-ur₃[rear cow]N sux:ab₂-saharₓ[type of cow]N sux: ...</td> <td>['rear cow', 'type of cow', 'abundance', 'to go out or in'] </td> <td>[]          </td> <td>[]             </td>\n",
       "        </tr>\n",
       "    </tbody>\n",
       "</table>\n",
       "<p>... (285 rows omitted)</p"
      ],
      "text/plain": [
       "l_no | text                                                         | terms                                                        | proper_nouns | speech_articles\n",
       "1    | sux:šeg₁₂[brick(work)]N sux:kur[(mountain) land]N sux:šu ... | ['brick(work)', '(mountain) land', 'shining', 'to go out ... | []           | []\n",
       "2    | sux:Kulaba[1]SN sux:iri[town]N sux:an[heaven]N sux:ki[pl ... | ['1', 'town', 'heaven', 'place', 'to grow']                  | ['Kulaba']   | ['SN']\n",
       "3    | sux:Unug[1]SN sux:mu[name]N sux:tir-an-na[rainbow]N          | ['1', 'name', 'rainbow']                                     | ['Unug']     | ['SN']\n",
       "4    | sux:an[heaven]N sux:us₂[to be adjacent]V sux:si-muš₃[bri ... | ['heaven', 'to be adjacent', 'brilliance', 'to be multic ... | []           | []\n",
       "5    | sux:an[heaven]N sux:gub[to stand]V sux:ud-sakar[crescent ... | ['heaven', 'to stand', 'crescent (moon)', 'to be new', ' ... | []           | []\n",
       "6    | sux:me[essence]N sux:gal[to be big]V sux:nam-nun[princel ... | ['essence', 'to be big', 'princeliness', 'to erect']         | []           | []\n",
       "7    | sux:kur[(mountain) land]N sux:sikil[to be pure]V sux:ud[ ... | ['(mountain) land', 'to be pure', 'day(light)', 'to be g ... | []           | []\n",
       "8    | sux:itid[moon(light)]N sux:kalam[the Land]N sux:e₃[to go ... | ['moon(light)', 'the Land', 'to go out or in']               | []           | []\n",
       "9    | sux:ud[day(light)]N sux:zalag[to be shining]V sux:kalam[ ... | ['day(light)', 'to be shining', 'the Land', 'horn', 'to  ... | []           | []\n",
       "10   | sux:ab₂-ur₃[rear cow]N sux:ab₂-saharₓ[type of cow]N sux: ... | ['rear cow', 'type of cow', 'abundance', 'to go out or in']  | []           | []\n",
       "... (285 rows omitted)"
      ]
     },
     "execution_count": 12,
     "metadata": {},
     "output_type": "execute_result"
    }
   ],
   "source": [
    "text_table = text_table.with_columns([\n",
    "    'terms', text_table.apply(term_finder, 'text'), \n",
    "    'proper_nouns', text_table.apply(proper_noun_finder, 'text'), \n",
    "    'speech_articles', text_table.apply(speech_article_finder, 'text')\n",
    "    ])\n",
    "#clean it up with the term finders \n",
    "\n",
    "text_table = text_table.drop(['etcsl_no', 'text_name'])\n",
    "text_table #remove the redundant information"
   ]
  },
  {
   "cell_type": "markdown",
   "metadata": {},
   "source": [
    "Create partitions to map character arcs.\n",
    "These vary depending on text and might need adjustment"
   ]
  },
  {
   "cell_type": "code",
   "execution_count": 13,
   "metadata": {
    "collapsed": true
   },
   "outputs": [],
   "source": [
    "def partitioning(line_no):    #Partitioning depends on the text used.\n",
    "    \n",
    "    ln = int(''.join(c for c in line_no if c.isdigit()))\n",
    "\n",
    "    if(ln <= 13):\n",
    "        return \"1.1\"\n",
    "    elif (ln <= 21):\n",
    "        return \"1.2\"\n",
    "    \n",
    "    elif (ln <= 39):\n",
    "        return \"2.1.1\"\n",
    "    elif (ln <= 51):\n",
    "        return \"2.1.2\"\n",
    "    elif (ln <= 69):\n",
    "        return \"2.1.3\"\n",
    "    \n",
    "    elif (ln <= 76):\n",
    "        return \"2.2.1\"\n",
    "    elif (ln <= 90):\n",
    "        return \"2.2.2\"\n",
    "    elif (ln <= 113):\n",
    "        return \"2.2.3\"\n",
    "    \n",
    "    elif (ln <= 127):\n",
    "        return \"2.3.1\"\n",
    "    elif (ln <= 132):\n",
    "        return \"2.3.2\"\n",
    "    elif (ln <= 134):\n",
    "        return \"2.3.3\"\n",
    "    \n",
    "    elif (ln <= 138):\n",
    "        return \"3.1.1\"\n",
    "    elif (ln <= 149):\n",
    "        return \"3.1.2\"\n",
    "    elif (ln <= 162):\n",
    "        return \"3.1.3\"\n",
    "    elif (ln <= 169):\n",
    "        return \"3.1.4\"\n",
    "    \n",
    "    elif (ln <= 184):\n",
    "        return \"3.2.1\"\n",
    "    elif (ln <= 197):\n",
    "        return \"3.2.2\"\n",
    "    elif (ln <= 205):\n",
    "        return \"3.2.3\"\n",
    "    elif (ln <= 210):\n",
    "        return \"3.2.4\"\n",
    "    elif (ln <= 221):\n",
    "        return \"3.2.5\"\n",
    "    \n",
    "    elif (ln <= 227):\n",
    "        return \"4.1\"\n",
    "    \n",
    "    elif (ln <= 248):\n",
    "        return \"4.2.1\"\n",
    "    elif (ln <= 254):\n",
    "        return \"4.2.2\"\n",
    "    elif (ln <= 263):\n",
    "        return \"4.2.3\"\n",
    "    elif (ln <= 273):\n",
    "        return \"4.2.4\"\n",
    "    \n",
    "    elif (ln <= 280):\n",
    "        return \"5.1\"\n",
    "    elif (ln <= 283):\n",
    "        return \"5.2\"\n",
    "    elif (ln <= 310):\n",
    "        return \"B\"\n",
    "    return \"0\"\n",
    "\n",
    "def small_partition(line_no):\n",
    "    ln = int(''.join(c for c in line_no if c.isdigit()))\n",
    "    if(ln <= 13):\n",
    "        return \"1.1\"\n",
    "    elif (ln <= 21):\n",
    "        return \"1.2\"\n",
    "    elif (ln <= 69):\n",
    "        return \"2.1\"\n",
    "    elif (ln <= 113):\n",
    "        return \"2.2\"\n",
    "    elif (ln <= 134):\n",
    "        return \"2.3\"\n",
    "    elif (ln <= 169):\n",
    "        return \"3.1\"\n",
    "    elif (ln <= 221):\n",
    "        return \"3.2\"\n",
    "    elif (ln <= 227):\n",
    "        return \"4.1\"\n",
    "    elif (ln <= 273):\n",
    "        return \"4.2\"\n",
    "    elif (ln <= 280):\n",
    "        return \"5.1\"\n",
    "    elif (ln <= 283):\n",
    "        return \"5.2\"\n",
    "    elif (ln <= 310):\n",
    "        return \"6\"\n",
    "    return \"0\""
   ]
  },
  {
   "cell_type": "markdown",
   "metadata": {},
   "source": [
    "Classify lines by partition #, not by line #"
   ]
  },
  {
   "cell_type": "code",
   "execution_count": 14,
   "metadata": {
    "collapsed": false,
    "scrolled": true
   },
   "outputs": [],
   "source": [
    "text_table.append_column('section', text_table.apply(small_partition, 'l_no'))\n",
    "text_graph = text_table.select(['proper_nouns', 'speech_articles', 'section']).group('section', list) "
   ]
  },
  {
   "cell_type": "code",
   "execution_count": 15,
   "metadata": {
    "collapsed": true
   },
   "outputs": [],
   "source": [
    "def list_flattening(pn_list):  #define the list flattening function\n",
    "    return [noun for nouns in pn_list for noun in nouns]"
   ]
  },
  {
   "cell_type": "code",
   "execution_count": 16,
   "metadata": {
    "collapsed": false
   },
   "outputs": [
    {
     "data": {
      "text/html": [
       "<table border=\"1\" class=\"dataframe\">\n",
       "    <thead>\n",
       "        <tr>\n",
       "            <th>section</th> <th>speech articles</th> <th>proper nouns</th>\n",
       "        </tr>\n",
       "    </thead>\n",
       "    <tbody>\n",
       "        <tr>\n",
       "            <td>1.1    </td> <td>['SN', 'SN', 'SN', 'SN']                                    </td> <td>['Kulaba', 'Unug', 'Unug', 'Aratta']                        </td>\n",
       "        </tr>\n",
       "    </tbody>\n",
       "        <tr>\n",
       "            <td>1.2    </td> <td>['DN', 'SN', 'PN', 'RN', 'SN', 'PN']                        </td> <td>['Utu', 'Aratta', 'Ansiga-ria', 'Enmerkar', 'Kulaba', 'N ...</td>\n",
       "        </tr>\n",
       "    </tbody>\n",
       "        <tr>\n",
       "            <td>2.1    </td> <td>['SN', 'SN', 'SN', 'SN', 'DN', 'DN', 'TN', 'SN', 'DN', ' ...</td> <td>['Unug', 'Kulaba', 'Aratta', 'En-suhgir-ana', 'Unug', 'I ...</td>\n",
       "        </tr>\n",
       "    </tbody>\n",
       "        <tr>\n",
       "            <td>2.2    </td> <td>['SN', 'SN', 'SN', 'DN', 'TN', 'SN', 'DN', 'DN', 'DN', ' ...</td> <td>['Unug', 'Aratta', 'Aratta', 'Inana', 'E-zagin', 'Aratta ...</td>\n",
       "        </tr>\n",
       "    </tbody>\n",
       "        <tr>\n",
       "            <td>2.3    </td> <td>['RN', 'RN', 'SN', 'SN', 'SN', 'SN', 'SN', 'SN', 'RN', ' ...</td> <td>['Enmerkar', 'En-suhgir-ana', 'En-suhgir-ana', 'Unug', ' ...</td>\n",
       "        </tr>\n",
       "    </tbody>\n",
       "        <tr>\n",
       "            <td>3.1    </td> <td>['PN', 'SN', 'SN', 'TN', 'PN', 'SN', 'SN', 'SN', 'SN', ' ...</td> <td>['Hamazi', 'Ur-ŋiri-nuna', 'Hamazi', 'Hamazi', 'Aratta', ...</td>\n",
       "        </tr>\n",
       "    </tbody>\n",
       "        <tr>\n",
       "            <td>3.2    </td> <td>['SN', 'DN', 'DN', 'DN', 'DN', 'DN', 'DN', 'DN', 'DN', ' ...</td> <td>['Ereš', 'Nisaba', 'Nisaba', 'Nisaba', 'Nisaba', 'Nisaba ...</td>\n",
       "        </tr>\n",
       "    </tbody>\n",
       "        <tr>\n",
       "            <td>4.1    </td> <td>['SN', 'WN', 'DN', 'DN', 'PN']                              </td> <td>['Ereš', 'Euphrates', 'An', 'Enlil', 'Saŋburu']             </td>\n",
       "        </tr>\n",
       "    </tbody>\n",
       "        <tr>\n",
       "            <td>4.2    </td> <td>['PN', 'PN', 'PN', 'PN', 'PN', 'PN', 'SN', 'DN', 'SN', ' ...</td> <td>['Saŋburu', 'Saŋburu', 'Saŋburu', 'Saŋburu', 'Saŋburu',  ...</td>\n",
       "        </tr>\n",
       "    </tbody>\n",
       "        <tr>\n",
       "            <td>5.1    </td> <td>['RN', 'RN', 'DN', 'DN']                                    </td> <td>['En-suhgir-ana', 'Enmerkar', 'Inana', 'Inana']             </td>\n",
       "        </tr>\n",
       "    </tbody>\n",
       "</table>\n",
       "<p>... (2 rows omitted)</p"
      ],
      "text/plain": [
       "section | speech articles                                              | proper nouns\n",
       "1.1     | ['SN', 'SN', 'SN', 'SN']                                     | ['Kulaba', 'Unug', 'Unug', 'Aratta']\n",
       "1.2     | ['DN', 'SN', 'PN', 'RN', 'SN', 'PN']                         | ['Utu', 'Aratta', 'Ansiga-ria', 'Enmerkar', 'Kulaba', 'N ...\n",
       "2.1     | ['SN', 'SN', 'SN', 'SN', 'DN', 'DN', 'TN', 'SN', 'DN', ' ... | ['Unug', 'Kulaba', 'Aratta', 'En-suhgir-ana', 'Unug', 'I ...\n",
       "2.2     | ['SN', 'SN', 'SN', 'DN', 'TN', 'SN', 'DN', 'DN', 'DN', ' ... | ['Unug', 'Aratta', 'Aratta', 'Inana', 'E-zagin', 'Aratta ...\n",
       "2.3     | ['RN', 'RN', 'SN', 'SN', 'SN', 'SN', 'SN', 'SN', 'RN', ' ... | ['Enmerkar', 'En-suhgir-ana', 'En-suhgir-ana', 'Unug', ' ...\n",
       "3.1     | ['PN', 'SN', 'SN', 'TN', 'PN', 'SN', 'SN', 'SN', 'SN', ' ... | ['Hamazi', 'Ur-ŋiri-nuna', 'Hamazi', 'Hamazi', 'Aratta', ...\n",
       "3.2     | ['SN', 'DN', 'DN', 'DN', 'DN', 'DN', 'DN', 'DN', 'DN', ' ... | ['Ereš', 'Nisaba', 'Nisaba', 'Nisaba', 'Nisaba', 'Nisaba ...\n",
       "4.1     | ['SN', 'WN', 'DN', 'DN', 'PN']                               | ['Ereš', 'Euphrates', 'An', 'Enlil', 'Saŋburu']\n",
       "4.2     | ['PN', 'PN', 'PN', 'PN', 'PN', 'PN', 'SN', 'DN', 'SN', ' ... | ['Saŋburu', 'Saŋburu', 'Saŋburu', 'Saŋburu', 'Saŋburu',  ...\n",
       "5.1     | ['RN', 'RN', 'DN', 'DN']                                     | ['En-suhgir-ana', 'Enmerkar', 'Inana', 'Inana']\n",
       "... (2 rows omitted)"
      ]
     },
     "execution_count": 16,
     "metadata": {},
     "output_type": "execute_result"
    }
   ],
   "source": [
    "#flatten the lists that we're concerned with\n",
    "text_graph.append_column('speech articles', text_graph.apply(list_flattening, 'speech_articles list'))\n",
    "text_graph.append_column('proper nouns', text_graph.apply(list_flattening, 'proper_nouns list'))\n",
    "\n",
    "#drop the columns we don't need\n",
    "text_graph = text_graph.drop(['proper_nouns list', 'speech_articles list'])\n",
    "\n",
    "text_graph"
   ]
  },
  {
   "cell_type": "markdown",
   "metadata": {},
   "source": [
    "## Sort values by their unique section 'partition' of the story"
   ]
  },
  {
   "cell_type": "code",
   "execution_count": 17,
   "metadata": {
    "collapsed": false
   },
   "outputs": [
    {
     "data": {
      "text/html": [
       "<table border=\"1\" class=\"dataframe\">\n",
       "    <thead>\n",
       "        <tr>\n",
       "            <th>section</th> <th>speech articles</th> <th>proper nouns</th>\n",
       "        </tr>\n",
       "    </thead>\n",
       "    <tbody>\n",
       "        <tr>\n",
       "            <td>1.1    </td> <td>SN             </td> <td>Kulaba      </td>\n",
       "        </tr>\n",
       "    </tbody>\n",
       "        <tr>\n",
       "            <td>1.1    </td> <td>SN             </td> <td>Unug        </td>\n",
       "        </tr>\n",
       "    </tbody>\n",
       "        <tr>\n",
       "            <td>1.1    </td> <td>SN             </td> <td>Unug        </td>\n",
       "        </tr>\n",
       "    </tbody>\n",
       "        <tr>\n",
       "            <td>1.1    </td> <td>SN             </td> <td>Aratta      </td>\n",
       "        </tr>\n",
       "    </tbody>\n",
       "        <tr>\n",
       "            <td>1.2    </td> <td>DN             </td> <td>Utu         </td>\n",
       "        </tr>\n",
       "    </tbody>\n",
       "        <tr>\n",
       "            <td>1.2    </td> <td>SN             </td> <td>Aratta      </td>\n",
       "        </tr>\n",
       "    </tbody>\n",
       "        <tr>\n",
       "            <td>1.2    </td> <td>PN             </td> <td>Ansiga-ria  </td>\n",
       "        </tr>\n",
       "    </tbody>\n",
       "        <tr>\n",
       "            <td>1.2    </td> <td>RN             </td> <td>Enmerkar    </td>\n",
       "        </tr>\n",
       "    </tbody>\n",
       "        <tr>\n",
       "            <td>1.2    </td> <td>SN             </td> <td>Kulaba      </td>\n",
       "        </tr>\n",
       "    </tbody>\n",
       "        <tr>\n",
       "            <td>1.2    </td> <td>PN             </td> <td>Namena-tuma </td>\n",
       "        </tr>\n",
       "    </tbody>\n",
       "</table>\n",
       "<p>... (119 rows omitted)</p"
      ],
      "text/plain": [
       "section | speech articles | proper nouns\n",
       "1.1     | SN              | Kulaba\n",
       "1.1     | SN              | Unug\n",
       "1.1     | SN              | Unug\n",
       "1.1     | SN              | Aratta\n",
       "1.2     | DN              | Utu\n",
       "1.2     | SN              | Aratta\n",
       "1.2     | PN              | Ansiga-ria\n",
       "1.2     | RN              | Enmerkar\n",
       "1.2     | SN              | Kulaba\n",
       "1.2     | PN              | Namena-tuma\n",
       "... (119 rows omitted)"
      ]
     },
     "execution_count": 17,
     "metadata": {},
     "output_type": "execute_result"
    }
   ],
   "source": [
    "def partitioner (i):\n",
    "    rows = []\n",
    "    section = text_graph['section'][i]\n",
    "    speech_articles = text_graph['speech articles'][i]\n",
    "    proper_nouns = text_graph['proper nouns'][i]\n",
    "    for j in range(len(speech_articles)):\n",
    "        article = speech_articles[j]\n",
    "        proper_noun = proper_nouns[j]\n",
    "        rows.append([section, article, proper_noun])\n",
    "    return rows\n",
    "\n",
    "text_table_section = Table(['section', 'speech articles', 'proper nouns'])\n",
    "for i in range(text_graph.num_rows):\n",
    "    text_table_section = text_table_section.with_rows(partitioner(i))\n",
    "text_table_section"
   ]
  },
  {
   "cell_type": "markdown",
   "metadata": {},
   "source": [
    "# Optional to find most important characters"
   ]
  },
  {
   "cell_type": "code",
   "execution_count": 18,
   "metadata": {
    "collapsed": false
   },
   "outputs": [
    {
     "data": {
      "text/plain": [
       "[['An', 2],\n",
       " ['Ansiga-ria', 5],\n",
       " ['Anzud', 1],\n",
       " ['Aratta', 18],\n",
       " ['Aruru', 1],\n",
       " ['E-ana', 1],\n",
       " ['E-zagin', 4],\n",
       " ['E-ŋipar', 1],\n",
       " ['En-suhgir-ana', 9],\n",
       " ['Enlil', 7],\n",
       " ['Enmerkar', 9],\n",
       " ['Ereš', 3],\n",
       " ['Euphrates', 1],\n",
       " ['Hamazi', 3],\n",
       " ['Inana', 13],\n",
       " ['Kulaba', 5],\n",
       " ['Namena-tuma', 1],\n",
       " ['Nanna', 1],\n",
       " ['Ninlil', 1],\n",
       " ['Ninurta', 1],\n",
       " ['Nisaba', 13],\n",
       " ['Saŋburu', 8],\n",
       " ['Unug', 16],\n",
       " ['Ur-ŋiri-nuna', 2],\n",
       " ['Utu', 2],\n",
       " ['Šakkan', 1]]"
      ]
     },
     "execution_count": 18,
     "metadata": {},
     "output_type": "execute_result"
    }
   ],
   "source": [
    "proper_noun_by_section = text_table_section.pivot('proper nouns', rows = 'section')\n",
    "name_counts = []\n",
    "for name in proper_noun_by_section.drop('section').labels:\n",
    "    name_counts.append([name, np.sum(proper_noun_by_section[name])])\n",
    "\n",
    "top_7_names = ['FILL THIS IN WITH THE TOP 7 names']\n",
    "name_counts"
   ]
  },
  {
   "cell_type": "code",
   "execution_count": 19,
   "metadata": {
    "collapsed": false
   },
   "outputs": [
    {
     "data": {
      "image/png": "[encoded data removed]",
      "text/plain": [
       "<matplotlib.figure.Figure at 0x10ad2eac8>"
      ]
     },
     "metadata": {},
     "output_type": "display_data"
    }
   ],
   "source": [
    "names_graph = proper_noun_by_section.with_column(\n",
    "    'section', range(1, proper_noun_by_section.num_rows+1))\n",
    "\n",
    "top_7_names_graph = names_graph.select(['Aratta', 'Unug', 'section']).plot('section')\n",
    "#notice Aratta is the only one mentioned in the section 4.2.3"
   ]
  },
  {
   "cell_type": "code",
   "execution_count": 20,
   "metadata": {
    "collapsed": false
   },
   "outputs": [
    {
     "data": {
      "image/png": "[encoded data removed]",
      "text/plain": [
       "<matplotlib.figure.Figure at 0x10ad2e940>"
      ]
     },
     "metadata": {},
     "output_type": "display_data"
    }
   ],
   "source": [
    "names_graph.plot('section') # see who is mentioned the most"
   ]
  },
  {
   "cell_type": "code",
   "execution_count": null,
   "metadata": {
    "collapsed": true
   },
   "outputs": [],
   "source": []
  }
 ],
 "metadata": {
  "celltoolbar": "Edit Metadata",
  "kernelspec": {
   "display_name": "Python 3",
   "language": "python",
   "name": "python3"
  },
  "language_info": {
   "codemirror_mode": {
    "name": "ipython",
    "version": 3
   },
   "file_extension": ".py",
   "mimetype": "text/x-python",
   "name": "python",
   "nbconvert_exporter": "python",
   "pygments_lexer": "ipython3",
   "version": "3.4.5"
  }
 },
 "nbformat": 4,
 "nbformat_minor": 0
}
