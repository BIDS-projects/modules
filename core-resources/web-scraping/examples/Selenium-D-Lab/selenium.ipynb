{
 "cells": [
  {
   "cell_type": "code",
   "execution_count": 1,
   "metadata": {
    "collapsed": true
   },
   "outputs": [],
   "source": [
    "from selenium import webdriver\n",
    "from selenium.webdriver.common.keys import Keys\n",
    "from selenium.webdriver.support.ui import Select\n",
    "from bs4 import BeautifulSoup"
   ]
  },
  {
   "cell_type": "code",
   "execution_count": 2,
   "metadata": {
    "collapsed": false
   },
   "outputs": [],
   "source": [
    "# setup driver\n",
    "driver = webdriver.Chrome()  # or firefox"
   ]
  },
  {
   "cell_type": "code",
   "execution_count": 3,
   "metadata": {
    "collapsed": true
   },
   "outputs": [],
   "source": [
    "driver.get(\"http://www.google.com\")"
   ]
  },
  {
   "cell_type": "code",
   "execution_count": 4,
   "metadata": {
    "collapsed": true
   },
   "outputs": [],
   "source": [
    "# go to page\n",
    "driver.get(\"http://wbsec.gov.in/(S(eoxjutirydhdvx550untivvu))/DetailedResult/Detailed_gp_2013.aspx\")"
   ]
  },
  {
   "cell_type": "markdown",
   "metadata": {},
   "source": [
    "### Zilla Parishad Name"
   ]
  },
  {
   "cell_type": "code",
   "execution_count": 5,
   "metadata": {
    "collapsed": true
   },
   "outputs": [],
   "source": [
    "# find \"district\" drop down\n",
    "district = driver.find_element_by_name(\"ddldistrict\")"
   ]
  },
  {
   "cell_type": "code",
   "execution_count": 6,
   "metadata": {
    "collapsed": false
   },
   "outputs": [
    {
     "name": "stdout",
     "output_type": "stream",
     "text": [
      "1\n",
      "Bankura                       \n"
     ]
    }
   ],
   "source": [
    "# find options in that drop down\n",
    "district_options = district.find_elements_by_tag_name(\"option\")\n",
    "\n",
    "print(district_options[1].get_attribute(\"value\"))\n",
    "print(district_options[1].text)"
   ]
  },
  {
   "cell_type": "code",
   "execution_count": 7,
   "metadata": {
    "collapsed": false
   },
   "outputs": [
    {
     "name": "stdout",
     "output_type": "stream",
     "text": [
      "{'Cooch Behar': '8', 'Murshidabad': '12', 'Uttar Dinajpur': '18', 'Paschim Medinipur': '10', 'Jalpaiguri': '7', 'Purulia': '14', 'South 24-Parganas': '16', 'Siliguri MP': '19', 'Burdwan': '2', 'Bankura': '1', 'Birbhum': '3', 'Kolkata-North': '20', 'Malda': '9', 'Dakshin Dinajpur': '17', 'Purba Medinipur': '11', 'Hooghly': '6', 'Nadia': '13', 'North 24-Parganas': '15', 'Howrah': '5', 'Darjeeling': '4', 'Kolkata-South': '22', 'Alipurduar': '21'}\n"
     ]
    }
   ],
   "source": [
    "d_options = {option.text.strip(): option.get_attribute(\"value\") for option in district_options if option.get_attribute(\"value\").isdigit()}\n",
    "print(d_options)"
   ]
  },
  {
   "cell_type": "code",
   "execution_count": 8,
   "metadata": {
    "collapsed": false
   },
   "outputs": [],
   "source": [
    "district_select = Select(district)\n",
    "district_select.select_by_value(d_options[\"Bankura\"])"
   ]
  },
  {
   "cell_type": "markdown",
   "metadata": {},
   "source": [
    "### Panchayat Samity Name"
   ]
  },
  {
   "cell_type": "code",
   "execution_count": null,
   "metadata": {
    "collapsed": false
   },
   "outputs": [],
   "source": [
    "# find the \"block\" drop down\n",
    "block = driver.find_element_by_name(\"ddlblock\")"
   ]
  },
  {
   "cell_type": "code",
   "execution_count": null,
   "metadata": {
    "collapsed": false
   },
   "outputs": [],
   "source": [
    "# get options\n",
    "block_options = block.find_elements_by_tag_name(\"option\")\n",
    "\n",
    "print(block_options[1].get_attribute(\"value\"))\n",
    "print(block_options[1].text)"
   ]
  },
  {
   "cell_type": "code",
   "execution_count": null,
   "metadata": {
    "collapsed": false
   },
   "outputs": [],
   "source": [
    "b_options = {option.text.strip(): option.get_attribute(\"value\") for option in block_options if option.get_attribute(\"value\").isdigit()}\n",
    "print(b_options)"
   ]
  },
  {
   "cell_type": "code",
   "execution_count": null,
   "metadata": {
    "collapsed": false
   },
   "outputs": [],
   "source": [
    "block_select = Select(block)\n",
    "block_select.select_by_value(b_options[\"BANKURA-I\"])"
   ]
  },
  {
   "cell_type": "markdown",
   "metadata": {},
   "source": [
    "### Gram Panchayat Name"
   ]
  },
  {
   "cell_type": "code",
   "execution_count": null,
   "metadata": {
    "collapsed": false
   },
   "outputs": [],
   "source": [
    "# get options\n",
    "gp = driver.find_element_by_name(\"ddlgp\")\n",
    "gp_options = gp.find_elements_by_tag_name(\"option\")\n",
    "\n",
    "print(gp_options[1].get_attribute(\"value\"))\n",
    "print(gp_options[1].text)"
   ]
  },
  {
   "cell_type": "code",
   "execution_count": null,
   "metadata": {
    "collapsed": false
   },
   "outputs": [],
   "source": [
    "gp_options = {option.text.strip(): option.get_attribute(\"value\") for option in gp_options if option.get_attribute(\"value\").isdigit()}\n",
    "print(gp_options)"
   ]
  },
  {
   "cell_type": "code",
   "execution_count": null,
   "metadata": {
    "collapsed": false
   },
   "outputs": [],
   "source": [
    "gp_select = Select(gp)\n",
    "gp_select.select_by_value(gp_options[\"ANCHURI\"])"
   ]
  },
  {
   "cell_type": "markdown",
   "metadata": {},
   "source": [
    "### Save data from the generated table"
   ]
  },
  {
   "cell_type": "code",
   "execution_count": null,
   "metadata": {
    "collapsed": false
   },
   "outputs": [],
   "source": [
    "# get the html for the table\n",
    "table = driver.find_element_by_css_selector(\"#DataGrid1\").get_attribute('innerHTML')"
   ]
  },
  {
   "cell_type": "code",
   "execution_count": null,
   "metadata": {
    "collapsed": false
   },
   "outputs": [],
   "source": [
    "# soup-ify\n",
    "table = BeautifulSoup(table)"
   ]
  },
  {
   "cell_type": "code",
   "execution_count": null,
   "metadata": {
    "collapsed": false
   },
   "outputs": [],
   "source": [
    "table"
   ]
  },
  {
   "cell_type": "code",
   "execution_count": null,
   "metadata": {
    "collapsed": false
   },
   "outputs": [],
   "source": [
    "# get list of rows\n",
    "rows = [row for row in table.select(\"tr\")]"
   ]
  },
  {
   "cell_type": "code",
   "execution_count": null,
   "metadata": {
    "collapsed": false
   },
   "outputs": [],
   "source": [
    "#for row in rows:\n",
    "data = []\n",
    "for row in rows[1:]:\n",
    "    dic = {}\n",
    "    dic['seat'] = row.select('td')[0].text\n",
    "    dic['electors'] = row.select('td')[1].text\n",
    "    dic['polled'] = row.select('td')[2].text\n",
    "    dic['rejected'] = row.select('td')[3].text\n",
    "    dic['osn'] = row.select('td')[4].text\n",
    "    dic['candidate'] = row.select('td')[5].text\n",
    "    dic['party'] = row.select('td')[6].text\n",
    "    dic['secured'] = row.select('td')[7].text\n",
    "    data.append(dic)"
   ]
  },
  {
   "cell_type": "code",
   "execution_count": null,
   "metadata": {
    "collapsed": false
   },
   "outputs": [],
   "source": [
    "# strip whitespace\n",
    "for dic in data:\n",
    "    for key in dic:\n",
    "        dic[key] = dic[key].strip()"
   ]
  },
  {
   "cell_type": "code",
   "execution_count": null,
   "metadata": {
    "collapsed": false
   },
   "outputs": [],
   "source": [
    "not data[0]['seat']"
   ]
  },
  {
   "cell_type": "code",
   "execution_count": null,
   "metadata": {
    "collapsed": false
   },
   "outputs": [],
   "source": [
    "#fill out info\n",
    "\n",
    "i = 0\n",
    "while i < len(data):\n",
    "    if data[i]['seat']:\n",
    "        seat = data[i]['seat']\n",
    "        electors = data[i]['electors']\n",
    "        polled = data[i]['polled']\n",
    "        rejected = data[i]['rejected']\n",
    "        i = i+1\n",
    "    else:\n",
    "        data[i]['seat'] = seat\n",
    "        data[i]['electors'] = electors\n",
    "        data[i]['polled'] = polled\n",
    "        data[i]['rejected'] = rejected\n",
    "        i = i+1"
   ]
  },
  {
   "cell_type": "code",
   "execution_count": null,
   "metadata": {
    "collapsed": false
   },
   "outputs": [],
   "source": [
    "data[:5]"
   ]
  },
  {
   "cell_type": "code",
   "execution_count": null,
   "metadata": {
    "collapsed": true
   },
   "outputs": [],
   "source": []
  }
 ],
 "metadata": {
  "anaconda-cloud": {},
  "kernelspec": {
   "display_name": "Python [default]",
   "language": "python",
   "name": "python3"
  },
  "language_info": {
   "codemirror_mode": {
    "name": "ipython",
    "version": 3
   },
   "file_extension": ".py",
   "mimetype": "text/x-python",
   "name": "python",
   "nbconvert_exporter": "python",
   "pygments_lexer": "ipython3",
   "version": "3.5.2"
  }
 },
 "nbformat": 4,
 "nbformat_minor": 0
}
