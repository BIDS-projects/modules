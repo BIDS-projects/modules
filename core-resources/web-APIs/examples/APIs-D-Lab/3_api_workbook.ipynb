{
 "cells": [
  {
   "cell_type": "markdown",
   "metadata": {},
   "source": [
    "# Accessing Databases via Web APIs\n",
    "* * * * *"
   ]
  },
  {
   "cell_type": "code",
   "execution_count": null,
   "metadata": {
    "collapsed": false
   },
   "outputs": [],
   "source": [
    "# Import required libraries\n",
    "import requests\n",
    "import json\n",
    "from __future__ import division\n",
    "import math\n",
    "import csv\n",
    "import matplotlib.pyplot as plt"
   ]
  },
  {
   "cell_type": "markdown",
   "metadata": {},
   "source": [
    "## 1. Constructing API GET Request\n",
    "*****\n",
    "\n",
    "In the first place, we know that every call will require us to provide:\n",
    "\n",
    "1. a base URL for the API, \n",
    "2. some authorization code or key, and \n",
    "3. a format for the response. \n",
    "\n",
    "So let's put store those in some variables.\n",
    "\n",
    "Use the following demonstration keys for now, but in the future, get your own!\n",
    "\n",
    "1. ef9055ba947dd842effe0ecf5e338af9:15:72340235\n",
    "2. 25e91a4f7ee4a54813dca78f474e45a0:15:73273810\n",
    "3. e15cea455f73cc47d6d971667e09c31c:19:44644296\n",
    "4. b931c838cdb745bbab0f213cfc16b7a5:12:44644296\n",
    "5. 1dc1475b6e7d5ff5a982804cc565cd0b:6:44644296\n",
    "6. 18046cd15e21e1b9996ddfb6dafbb578:4:44644296\n",
    "7. be8992a420bfd16cf65e8757f77a5403:8:44644296"
   ]
  },
  {
   "cell_type": "code",
   "execution_count": null,
   "metadata": {
    "collapsed": true
   },
   "outputs": [],
   "source": [
    "# set key\n",
    "key=\"be8992a420bfd16cf65e8757f77a5403:8:44644296\"\n",
    "\n",
    "# set base url\n",
    "base_url=\"http://api.nytimes.com/svc/search/v2/articlesearch\"\n",
    "\n",
    "# set response format\n",
    "response_format=\".json\""
   ]
  },
  {
   "cell_type": "markdown",
   "metadata": {},
   "source": [
    "You often want to send some sort of data in the URL’s query string. This data tells the API what information you want. In our case, we want articles about Duke Ellington. Requests allows you to provide these arguments as a dictionary, using the `params` keyword argument. In addition to the search term `q`, we have to put in the `api-key` term."
   ]
  },
  {
   "cell_type": "code",
   "execution_count": null,
   "metadata": {
    "collapsed": true
   },
   "outputs": [],
   "source": [
    "# set search parameters\n",
    "search_params = {\"q\":\"Duke Ellington\",\n",
    "                 \"api-key\":key}       "
   ]
  },
  {
   "cell_type": "markdown",
   "metadata": {},
   "source": [
    "Now we're ready to make the request. We use the `.get` method from the `requests` library to make an HTTP GET Request."
   ]
  },
  {
   "cell_type": "code",
   "execution_count": null,
   "metadata": {
    "collapsed": false
   },
   "outputs": [],
   "source": [
    "# make request\n",
    "r = requests.get(base_url+response_format, params=search_params)"
   ]
  },
  {
   "cell_type": "markdown",
   "metadata": {},
   "source": [
    "Now, we have a [response](http://docs.python-requests.org/en/latest/api/#requests.Response) object called `r`. We can get all the information we need from this object. For instance, we can see that the URL has been correctly encoded by printing the URL. Click on the link to see what happens."
   ]
  },
  {
   "cell_type": "code",
   "execution_count": null,
   "metadata": {
    "collapsed": false
   },
   "outputs": [],
   "source": [
    "print(r.url)"
   ]
  },
  {
   "cell_type": "markdown",
   "metadata": {},
   "source": [
    "Click on that link to see it returns!"
   ]
  },
  {
   "cell_type": "markdown",
   "metadata": {},
   "source": [
    "### Challenge 1:  Adding a date range\n",
    "\n",
    "What if we only want to search within a particular date range? The NYT Article Api allows us to specify start and end dates.\n",
    "\n",
    "Alter the `search_params` code above so that the request only searches for articles in the year 2015.\n",
    "\n",
    "You're gonna need to look at the documentation [here](http://developer.nytimes.com/docs/read/article_search_api_v2) to see how to do this."
   ]
  },
  {
   "cell_type": "code",
   "execution_count": null,
   "metadata": {
    "collapsed": true
   },
   "outputs": [],
   "source": [
    "# set date parameters here"
   ]
  },
  {
   "cell_type": "code",
   "execution_count": null,
   "metadata": {
    "collapsed": false
   },
   "outputs": [],
   "source": [
    "# Uncomment to test\n",
    "# r = requests.get(base_url+response_format, params=search_params)\n",
    "# print(r.url)"
   ]
  },
  {
   "cell_type": "markdown",
   "metadata": {},
   "source": [
    "### Challenge 2:  Specifying a results page\n",
    "\n",
    "The above will return the first 10 results. To get the next ten, you need to add a \"page\" parameter. Change the search parameters above to get the second 10 resuls. "
   ]
  },
  {
   "cell_type": "code",
   "execution_count": null,
   "metadata": {
    "collapsed": true
   },
   "outputs": [],
   "source": [
    "# set page parameters here"
   ]
  },
  {
   "cell_type": "code",
   "execution_count": null,
   "metadata": {
    "collapsed": false
   },
   "outputs": [],
   "source": [
    "# Uncomment to test\n",
    "# r = requests.get(base_url+response_format, params=search_params)\n",
    "# print(r.url)"
   ]
  },
  {
   "cell_type": "markdown",
   "metadata": {},
   "source": [
    "## 2. Parsing the response text\n",
    "*****"
   ]
  },
  {
   "cell_type": "markdown",
   "metadata": {},
   "source": [
    "We can read the content of the server’s response using `.text`"
   ]
  },
  {
   "cell_type": "code",
   "execution_count": null,
   "metadata": {
    "collapsed": false
   },
   "outputs": [],
   "source": [
    "# Inspect the content of the response, parsing the result as text\n",
    "response_text= r.text\n",
    "print(response_text[:1000])"
   ]
  },
  {
   "cell_type": "markdown",
   "metadata": {},
   "source": [
    "What you see here is JSON text, encoded as unicode text. JSON stands for \"Javascript object notation.\" It has a very similar structure to a python dictionary -- both are built on key/value pairs. This makes it easy to convert JSON response to a python dictionary."
   ]
  },
  {
   "cell_type": "code",
   "execution_count": null,
   "metadata": {
    "collapsed": false
   },
   "outputs": [],
   "source": [
    "# Convert JSON response to a dictionary\n",
    "data = json.loads(response_text)\n",
    "# data"
   ]
  },
  {
   "cell_type": "markdown",
   "metadata": {},
   "source": [
    "That looks intimidating! But it's really just a big dictionary. Let's see what keys we got in there."
   ]
  },
  {
   "cell_type": "code",
   "execution_count": null,
   "metadata": {
    "collapsed": false
   },
   "outputs": [],
   "source": [
    "print(data.keys())"
   ]
  },
  {
   "cell_type": "code",
   "execution_count": null,
   "metadata": {
    "collapsed": false
   },
   "outputs": [],
   "source": [
    "# this is boring\n",
    "data['status']"
   ]
  },
  {
   "cell_type": "code",
   "execution_count": null,
   "metadata": {
    "collapsed": false
   },
   "outputs": [],
   "source": [
    "# so is this\n",
    "data['copyright']"
   ]
  },
  {
   "cell_type": "code",
   "execution_count": null,
   "metadata": {
    "collapsed": false
   },
   "outputs": [],
   "source": [
    "# this is what we want!\n",
    "# data['response']"
   ]
  },
  {
   "cell_type": "code",
   "execution_count": null,
   "metadata": {
    "collapsed": false
   },
   "outputs": [],
   "source": [
    "data['response'].keys()"
   ]
  },
  {
   "cell_type": "code",
   "execution_count": null,
   "metadata": {
    "collapsed": false
   },
   "outputs": [],
   "source": [
    "data['response']['meta']['hits']"
   ]
  },
  {
   "cell_type": "code",
   "execution_count": null,
   "metadata": {
    "collapsed": false
   },
   "outputs": [],
   "source": [
    "# data['response']['docs']\n",
    "type(data['response']['docs'])"
   ]
  },
  {
   "cell_type": "markdown",
   "metadata": {},
   "source": [
    "That looks what we want! Let's put that in it's own variable."
   ]
  },
  {
   "cell_type": "code",
   "execution_count": null,
   "metadata": {
    "collapsed": false
   },
   "outputs": [],
   "source": [
    "docs = data['response']['docs']"
   ]
  },
  {
   "cell_type": "code",
   "execution_count": null,
   "metadata": {
    "collapsed": false
   },
   "outputs": [],
   "source": [
    "docs[0]"
   ]
  },
  {
   "cell_type": "markdown",
   "metadata": {},
   "source": [
    "## 3. Putting everything together to get all the articles.\n",
    "*****"
   ]
  },
  {
   "cell_type": "markdown",
   "metadata": {},
   "source": [
    "That's great. But we only have 10 items. The original response said we had 93 hits! Which means we have to make 93 /10, or 10 requests to get them all. Sounds like a job for a loop! \n",
    "\n",
    "But first, let's review what we've done so far."
   ]
  },
  {
   "cell_type": "code",
   "execution_count": null,
   "metadata": {
    "collapsed": false
   },
   "outputs": [],
   "source": [
    "import time\n",
    "from random import randint\n",
    "\n",
    "# set key\n",
    "key=\"ef9055ba947dd842effe0ecf5e338af9:15:72340235\"\n",
    "\n",
    "# set base url\n",
    "base_url=\"http://api.nytimes.com/svc/search/v2/articlesearch\"\n",
    "\n",
    "# set response format\n",
    "response_format=\".json\"\n",
    "\n",
    "# set search parameters\n",
    "search_params = {\"q\":\"Duke Ellington\",\n",
    "                 \"api-key\":key,\n",
    "                 \"begin_date\":\"20150101\", # date must be in YYYYMMDD format\n",
    "                 \"end_date\":\"20151231\"}\n",
    "\n",
    "# make request\n",
    "r = requests.get(base_url+response_format, params=search_params)\n",
    "    \n",
    "# convert to a dictionary\n",
    "data=json.loads(r.text)\n",
    "    \n",
    "# get number of hits\n",
    "hits = data['response']['meta']['hits']\n",
    "print(\"number of hits: \", str(hits))\n",
    "    \n",
    "# get number of pages\n",
    "pages = int(math.ceil(hits/10))\n",
    "    \n",
    "# make an empty list where we'll hold all of our docs for every page\n",
    "all_docs = [] \n",
    "    \n",
    "# now we're ready to loop through the pages\n",
    "for i in range(pages):\n",
    "    print(\"collecting page\", str(i))\n",
    "        \n",
    "    # set the page parameter\n",
    "    search_params['page'] = i\n",
    "        \n",
    "    # make request\n",
    "    r = requests.get(base_url+response_format, params=search_params)\n",
    "    \n",
    "    # get text and convert to a dictionary\n",
    "    data=json.loads(r.text)\n",
    "        \n",
    "    # get just the docs\n",
    "    docs = data['response']['docs']\n",
    "        \n",
    "    # add those docs to the big list\n",
    "    all_docs = all_docs + docs\n",
    "    \n",
    "    time.sleep(randint(3,5))  # pause between calls"
   ]
  },
  {
   "cell_type": "code",
   "execution_count": null,
   "metadata": {
    "collapsed": false
   },
   "outputs": [],
   "source": [
    "len(all_docs)"
   ]
  },
  {
   "cell_type": "markdown",
   "metadata": {},
   "source": [
    "### Challenge 3: Make a function\n",
    "\n",
    "Turn the code above into a function that inputs a search `term` and a `year`, and returns all the documents containing that search term in that year."
   ]
  },
  {
   "cell_type": "code",
   "execution_count": null,
   "metadata": {
    "collapsed": false
   },
   "outputs": [],
   "source": [
    "# DEFINE YOUR FUNCTION HERE"
   ]
  },
  {
   "cell_type": "code",
   "execution_count": null,
   "metadata": {
    "collapsed": false
   },
   "outputs": [],
   "source": [
    "# uncomment to test\n",
    "# get_api_data(\"Duke Ellington\", 2014)"
   ]
  },
  {
   "cell_type": "markdown",
   "metadata": {},
   "source": [
    "## 4. Formatting\n",
    "*****\n",
    "\n",
    "Let's take another look at one of these documents."
   ]
  },
  {
   "cell_type": "code",
   "execution_count": null,
   "metadata": {
    "collapsed": false
   },
   "outputs": [],
   "source": [
    "all_docs[0]"
   ]
  },
  {
   "cell_type": "markdown",
   "metadata": {},
   "source": [
    "This is all great, but it's pretty messy. What we’d really like to to have, eventually, is a CSV, with each row representing an article, and each column representing something about that article (header, date, etc). As we saw before, the best way to do this is to make a lsit of dictionaries, with each dictionary representing an article and each dictionary representing a field of metadata from that article (e.g. headline, date, etc.) We can do this with a custom function:"
   ]
  },
  {
   "cell_type": "code",
   "execution_count": null,
   "metadata": {
    "collapsed": true
   },
   "outputs": [],
   "source": [
    "def format_articles(unformatted_docs):\n",
    "    '''\n",
    "    This function takes in a list of documents returned by the NYT api \n",
    "    and parses the documents into a list of dictionaries, \n",
    "    with 'id', 'header', and 'date' keys\n",
    "    '''\n",
    "    formatted = []\n",
    "    for i in unformatted_docs:\n",
    "        dic = {}\n",
    "        dic['id'] = i['_id']\n",
    "        dic['headline'] = i['headline']['main']\n",
    "        dic['date'] = i['pub_date'][0:10] # cutting time of day.\n",
    "        formatted.append(dic)\n",
    "    return(formatted) "
   ]
  },
  {
   "cell_type": "code",
   "execution_count": null,
   "metadata": {
    "collapsed": false
   },
   "outputs": [],
   "source": [
    "all_formatted = format_articles(all_docs)"
   ]
  },
  {
   "cell_type": "code",
   "execution_count": null,
   "metadata": {
    "collapsed": false
   },
   "outputs": [],
   "source": [
    "all_formatted[:5]"
   ]
  },
  {
   "cell_type": "markdown",
   "metadata": {},
   "source": [
    "### Challenge 4 Collect more fields\n",
    "\n",
    "Edit the function above so that we include the `lead_paragraph` and `word_count` fields.\n",
    "\n",
    "**HINT**: Some articles may not contain a lead_paragraph, in which case, it'll throw an error if you try to address this value (which doesn't exist.) You need to add a conditional statement that takes this into consideraiton. If\n",
    "\n",
    "**Advanced**: Add another key that returns a list of `keywords` associated with the article."
   ]
  },
  {
   "cell_type": "code",
   "execution_count": null,
   "metadata": {
    "collapsed": true
   },
   "outputs": [],
   "source": [
    "def format_articles(unformatted_docs):\n",
    "    '''\n",
    "    This function takes in a list of documents returned by the NYT api \n",
    "    and parses the documents into a list of dictionaries, \n",
    "    with 'id', 'header', 'date', 'lead paragrph' and 'word count' keys\n",
    "    '''\n",
    "    formatted = []\n",
    "    for i in unformatted_docs:\n",
    "        dic = {}\n",
    "        dic['id'] = i['_id']\n",
    "        dic['headline'] = i['headline']['main']\n",
    "        dic['date'] = i['pub_date'][0:10] # cutting time of day.\n",
    "        \n",
    "        # YOUR CODE HERE\n",
    "        \n",
    "        formatted.append(dic)\n",
    "    return(formatted) "
   ]
  },
  {
   "cell_type": "code",
   "execution_count": null,
   "metadata": {
    "collapsed": false
   },
   "outputs": [],
   "source": [
    "# uncomment to test\n",
    "# all_formatted = format_articles(all_docs)\n",
    "# all_formatted[:5]"
   ]
  },
  {
   "cell_type": "markdown",
   "metadata": {},
   "source": [
    "## 5. Exporting\n",
    "*****\n",
    "\n",
    "We can now export the data to a CSV."
   ]
  },
  {
   "cell_type": "code",
   "execution_count": null,
   "metadata": {
    "collapsed": false
   },
   "outputs": [],
   "source": [
    "keys = all_formatted[1]\n",
    "# writing the rest\n",
    "with open('all-formated.csv', 'w') as output_file:\n",
    "    dict_writer = csv.DictWriter(output_file, keys)\n",
    "    dict_writer.writeheader()\n",
    "    dict_writer.writerows(all_formatted)"
   ]
  },
  {
   "cell_type": "markdown",
   "metadata": {},
   "source": [
    "## Capstone Challenge\n",
    "\n",
    "Using what you learned, tell me if Chris' claim (i.e. that Duke Ellington has gotten more popular lately) holds water."
   ]
  },
  {
   "cell_type": "code",
   "execution_count": null,
   "metadata": {
    "collapsed": true
   },
   "outputs": [],
   "source": [
    "# YOUR CODE HERE"
   ]
  }
 ],
 "metadata": {
  "anaconda-cloud": {},
  "kernelspec": {
   "display_name": "Python [default]",
   "language": "python",
   "name": "python3"
  },
  "language_info": {
   "codemirror_mode": {
    "name": "ipython",
    "version": 3
   },
   "file_extension": ".py",
   "mimetype": "text/x-python",
   "name": "python",
   "nbconvert_exporter": "python",
   "pygments_lexer": "ipython3",
   "version": "3.5.2"
  }
 },
 "nbformat": 4,
 "nbformat_minor": 0
}
