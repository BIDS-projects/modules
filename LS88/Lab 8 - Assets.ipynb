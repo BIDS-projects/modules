{
 "cells": [
  {
   "cell_type": "code",
   "execution_count": null,
   "metadata": {
    "collapsed": false
   },
   "outputs": [],
   "source": [
    "from datascience import *\n",
    "from pandas import read_stata\n",
    "import numpy as np\n",
    "from pygrowup import Calculator\n",
    "\n",
    "import matplotlib\n",
    "matplotlib.use('Agg', warn=False)\n",
    "%matplotlib inline\n",
    "import matplotlib.pyplot as plots\n",
    "plots.style.use('fivethirtyeight')\n",
    "import warnings\n",
    "warnings.simplefilter(action=\"ignore\", category=FutureWarning)\n",
    "\n",
    "data = Table.read_table('***Data from Lab 7***')\n",
    "data"
   ]
  },
  {
   "cell_type": "markdown",
   "metadata": {},
   "source": [
    "# Assets\n",
    "For this lab, we are going to look at the different household assets.  We have not used this data yet, so this is a good chance to review how to import data - use Lab 1 as a guide.  This data is not individual level data, but household data.  You will need to look in the codebook or questionaire for where the asset data is located.  \n",
    "\n",
    "Each country will have a different set of assets that are in the questionnaire.  Probably there will be questions about household electronics, livestock, and vehicles.  Import the asset data base from Stata."
   ]
  },
  {
   "cell_type": "code",
   "execution_count": null,
   "metadata": {
    "collapsed": false
   },
   "outputs": [],
   "source": [
    "# Use code from Lab 1 to import your files from Stata"
   ]
  },
  {
   "cell_type": "markdown",
   "metadata": {},
   "source": [
    "Now that you have imported your data, you need to clean it.  Some of you may have a column with quantities, some may have if the household owns the asset or not.  Let's just use the ownership of the asset or not, though a future project could be to look at quantities.  For each asset, make the values in the column be 1 if they own the asset and 0 if they don't.   \n",
    "\n",
    "Depending on your data format, you may need to pivot your data.  To do this first select columns household id, asset (code), and column indicating ownership or not."
   ]
  },
  {
   "cell_type": "code",
   "execution_count": null,
   "metadata": {
    "collapsed": false
   },
   "outputs": [],
   "source": [
    "# Recode the quantity column to 0's & 1's\n",
    "\n",
    "# If necessary, recode your asset codes to the names of the asset items. \n",
    "# Example: 4001 is motorcycle. Replace 4001 with 'Motorcycle'\n"
   ]
  },
  {
   "cell_type": "markdown",
   "metadata": {},
   "source": [
    "Browse the data and see which assets households are most likely to have.  Which are they most likely not to have?  For purposes of statistical analyses, we'd like to select assets where some households have it, but not all of them.\n",
    "\n",
    "(As discussed in the reading, you could also consider access services like if the household has electricity or has health service covarage.  These may be in other data sets or not have yes/no answers, so may be harder to include.) \n",
    "\n",
    "Select at least 10 assets that you think may be important for child welfare (and have some variation in ownership) into a table that you will later join with the main data.  Be sure to also select the household id."
   ]
  },
  {
   "cell_type": "markdown",
   "metadata": {},
   "source": [
    "Finalize your table to include household id and the columns of the assests with 0 & 1's indicating ownership.  Drop the unnecessary columns."
   ]
  },
  {
   "cell_type": "code",
   "execution_count": null,
   "metadata": {
    "collapsed": false
   },
   "outputs": [],
   "source": [
    "# select household id, asset type, and ownership column before pivoting\n",
    "# pivot if necessary"
   ]
  },
  {
   "cell_type": "markdown",
   "metadata": {},
   "source": [
    "You now have a data set with the assets, one row for each household.  <font color=\"Blue\"> Item 1: What portion of households owns each of the assets?"
   ]
  },
  {
   "cell_type": "code",
   "execution_count": null,
   "metadata": {
    "collapsed": false
   },
   "outputs": [],
   "source": [
    "for column_name in ***Name of Data Table***.labels[1:]:\n",
    "    average = ***Name of Data Table***.column(column_name).mean()\n",
    "    print(column_name + ' - ' + str(average))"
   ]
  },
  {
   "cell_type": "markdown",
   "metadata": {},
   "source": [
    "The assets for which everyone owns them or very few people own them are uninformative to our analysis.  If you have more than 4 assets where this is the case, replace some of your assets in your asset list so that for at least six assets, the percentages of households that own the assets end up being somewhere between 15 & 85 percent. "
   ]
  },
  {
   "cell_type": "code",
   "execution_count": null,
   "metadata": {
    "collapsed": true
   },
   "outputs": [],
   "source": []
  },
  {
   "cell_type": "markdown",
   "metadata": {},
   "source": [
    "The asset data base is identified with the household id.  Join your asset data to your main data base.\n",
    "After joining, confirm that you still have the right number of observations and that your data looks right.  All the members of the same household should have the the same asset information."
   ]
  },
  {
   "cell_type": "code",
   "execution_count": null,
   "metadata": {
    "collapsed": false
   },
   "outputs": [],
   "source": [
    "# You know the drill!!!"
   ]
  },
  {
   "cell_type": "markdown",
   "metadata": {},
   "source": [
    "Save your data."
   ]
  },
  {
   "cell_type": "code",
   "execution_count": null,
   "metadata": {
    "collapsed": true
   },
   "outputs": [],
   "source": [
    "data.to_csv('Lab_8.csv')"
   ]
  },
  {
   "cell_type": "markdown",
   "metadata": {},
   "source": [
    "Write a poverty profile based on asset ownership among the poor.  We are going to be flexible with how we define poor. You couldn base it on father's education level, household per capita income, or some other metric that you prefer. We have provided code for the highest education level in the household is primary or less. You will have to check your codes to see what level that is and to see which education level is most likely to be impovershed based on the economy.\n",
    "\n",
    "<font color=\"Blue\"> Item 2: Keep just the poor in your table and describe which assests they are likely to have and which are they unlikely to have."
   ]
  },
  {
   "cell_type": "code",
   "execution_count": null,
   "metadata": {
    "collapsed": false
   },
   "outputs": [],
   "source": [
    "max_education = data.group('Household ID', ***appropriate function***).select('Household ID', '***Appropriate Column Name***')\n",
    "max_education"
   ]
  },
  {
   "cell_type": "code",
   "execution_count": null,
   "metadata": {
    "collapsed": false
   },
   "outputs": [],
   "source": [
    "data_w_max = data.join('Household ID', max_education)\n",
    "poor = data_w_max.where(data_w_max['Education Level max'] <= ***Determine level***)\n",
    "rich = ...."
   ]
  },
  {
   "cell_type": "code",
   "execution_count": null,
   "metadata": {
    "collapsed": false
   },
   "outputs": [],
   "source": [
    "# hint: we just did this\n",
    "for column_name in poor.labels[23:]:\n",
    "   ...\n",
    "   ..."
   ]
  },
  {
   "cell_type": "code",
   "execution_count": null,
   "metadata": {
    "collapsed": false
   },
   "outputs": [],
   "source": [
    "# differences between rich and poor\n",
    "for column_name in poor.labels[23:len(poor.labels)-1]:\n",
    "    poor_average = poor.column(column_name).***appropriate function***()\n",
    "    rich_average = ...\n",
    "    difference = round(poor_average - rich_average, 2)\n",
    "    print(...)"
   ]
  },
  {
   "cell_type": "markdown",
   "metadata": {
    "collapsed": true
   },
   "source": [
    "Now using data for everyone, not just the poor, let's see how each asset is correlated with child outcomes.  We will contrast this with the correlation with income.  (If you only have a few wage earners, use the entire population.  If your HAZ data is few, use enrolled in school and use children over age 6.)\n",
    "\n",
    "<font color=\"Blue\"> Item 3:  Calculate the correlation coefficient for each asset and HAZ for children below age 5.  Which is most strongly correlated with HAZ?  Why do you think these associations exist?"
   ]
  },
  {
   "cell_type": "code",
   "execution_count": null,
   "metadata": {
    "collapsed": false
   },
   "outputs": [],
   "source": [
    "# first make sure the variable z_scores is in your data\n",
    "\n",
    "def correlation(t, label_x, label_y):\n",
    "    return np.***function***(standard_units(t.column(label_x))*standard_units(t.column(label_y)))\n",
    "def standard_units(xyz):\n",
    "    \"Convert any array of numbers to standard units.\"\n",
    "    return (xyz - np.***function***(xyz))/np.***function***(xyz)\n",
    "\n",
    "for x in corr_vars.labels:\n",
    "    corr = correlation(***list of variables***, '***appropriate column name***', x)\n",
    "    print(...)"
   ]
  },
  {
   "cell_type": "markdown",
   "metadata": {},
   "source": [
    "<font color=\"Blue\"> Item 4: We don't really have to standardize the units because all our asset variables are 0 & 1.  Repeat the correlations without standardizing the units.  How would you interpret these results?"
   ]
  },
  {
   "cell_type": "code",
   "execution_count": null,
   "metadata": {
    "collapsed": true
   },
   "outputs": [],
   "source": []
  }
 ],
 "metadata": {
  "kernelspec": {
   "display_name": "Python 3",
   "language": "python",
   "name": "python3"
  },
  "language_info": {
   "codemirror_mode": {
    "name": "ipython",
    "version": 3
   },
   "file_extension": ".py",
   "mimetype": "text/x-python",
   "name": "python",
   "nbconvert_exporter": "python",
   "pygments_lexer": "ipython3",
   "version": "3.5.2"
  }
 },
 "nbformat": 4,
 "nbformat_minor": 0
}
