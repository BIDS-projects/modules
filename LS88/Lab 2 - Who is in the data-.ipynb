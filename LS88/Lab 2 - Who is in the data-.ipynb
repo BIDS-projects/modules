{
 "cells": [
  {
   "cell_type": "code",
   "execution_count": null,
   "metadata": {
    "collapsed": true
   },
   "outputs": [],
   "source": [
    "# run this cell\n",
    "from datascience import *\n",
    "from pandas import read_stata\n",
    "import numpy as np\n",
    "\n",
    "import matplotlib\n",
    "matplotlib.use('Agg', warn=False)\n",
    "%matplotlib inline\n",
    "import matplotlib.pyplot as plots\n",
    "plots.style.use('fivethirtyeight')\n",
    "import warnings\n",
    "warnings.simplefilter(action=\"ignore\", category=FutureWarning)"
   ]
  },
  {
   "cell_type": "markdown",
   "metadata": {},
   "source": [
    "# Let's explore the data to learn about your population."
   ]
  },
  {
   "cell_type": "code",
   "execution_count": null,
   "metadata": {
    "collapsed": false
   },
   "outputs": [],
   "source": [
    "# Import data that you saved at the end of Lab 1\n",
    "data = Table.read_table('***Insert the file name of your table***')"
   ]
  },
  {
   "cell_type": "markdown",
   "metadata": {},
   "source": [
    "Look at the first family in your Table \n",
    "<font color=\"blue\"> Item 1: Who are the members in the family?  How old are they?  (example, mother (age 25), father (age 30), two sons (ages 12 & 5) & grandfather (age 65))  Challenge: if there’s a grandparent, can you tell if maternal or paternal?"
   ]
  },
  {
   "cell_type": "markdown",
   "metadata": {},
   "source": [
    "*Hint: The first family in the table will have the lowest master ID*"
   ]
  },
  {
   "cell_type": "code",
   "execution_count": null,
   "metadata": {
    "collapsed": false
   },
   "outputs": [],
   "source": [
    "data.where(\"Household ID\", min(data.column(\"Household ID\")))"
   ]
  },
  {
   "cell_type": "markdown",
   "metadata": {},
   "source": [
    "<font color=\"blue\"> Item 2: How many individuals are in your survey?"
   ]
  },
  {
   "cell_type": "markdown",
   "metadata": {},
   "source": [
    "*Hint: There is a row for each survey participant* "
   ]
  },
  {
   "cell_type": "code",
   "execution_count": null,
   "metadata": {
    "collapsed": false
   },
   "outputs": [],
   "source": []
  },
  {
   "cell_type": "markdown",
   "metadata": {},
   "source": [
    "<font color=\"blue\"> Item 3: How many households are in your survey?\n",
    "<font color=\"black\">\n",
    "*Hint: Group will condense similar values*"
   ]
  },
  {
   "cell_type": "code",
   "execution_count": null,
   "metadata": {
    "collapsed": false
   },
   "outputs": [],
   "source": []
  },
  {
   "cell_type": "markdown",
   "metadata": {},
   "source": [
    "<font color=\"blue\"> Item 4: What's the size of the biggest household? <font color=\"black\">\n",
    "<font color=\"black\">\n",
    "*Hint: The 'stats' method will give summary statistics for a table*"
   ]
  },
  {
   "cell_type": "code",
   "execution_count": null,
   "metadata": {
    "collapsed": false
   },
   "outputs": [],
   "source": []
  },
  {
   "cell_type": "markdown",
   "metadata": {},
   "source": [
    "<font color=\"blue\"> Item 5: What's the average household size?"
   ]
  },
  {
   "cell_type": "code",
   "execution_count": null,
   "metadata": {
    "collapsed": false
   },
   "outputs": [],
   "source": []
  },
  {
   "cell_type": "markdown",
   "metadata": {},
   "source": [
    "### Let's explore the age in years variable\n",
    "Look at the values in the age column.  We cannot scroll through them all to make sure they make sense.  Let's group the data by the values in the age column.  This will be a more manageable table and we can scroll through.  Are there values less than 0 or greater than ___ (age of oldest person alive)?"
   ]
  },
  {
   "cell_type": "code",
   "execution_count": null,
   "metadata": {
    "collapsed": false
   },
   "outputs": [],
   "source": [
    "ages = #group here\n",
    "ages.show()\n",
    "# [show allows us to scroll through & look for outrageous values]"
   ]
  },
  {
   "cell_type": "markdown",
   "metadata": {},
   "source": [
    "Do you see any strange values?  Do these correspond to missing codes in your codebook or questionnaire?  We need to replace these to blanks."
   ]
  },
  {
   "cell_type": "code",
   "execution_count": null,
   "metadata": {
    "collapsed": true
   },
   "outputs": [],
   "source": [
    "def replace_nan(x):\n",
    "    if np.isnan(x):\n",
    "        return -99\n",
    "    return x\n",
    "\n",
    "data['***Insert your age variable***'] = data.apply(replace_nan, '***Insert your age variable***')"
   ]
  },
  {
   "cell_type": "markdown",
   "metadata": {},
   "source": [
    "<font color=\"blue\"> Item 6: What percentage of indivduals are missing age data?\n",
    "<font color=\"black\">\n",
    "*Hint: 'where' will be helpful here*"
   ]
  },
  {
   "cell_type": "code",
   "execution_count": null,
   "metadata": {
    "collapsed": false
   },
   "outputs": [],
   "source": []
  },
  {
   "cell_type": "markdown",
   "metadata": {},
   "source": [
    "<font color=\"blue\"> Item 7: Make a histogram of age and paste in the document. Explain what you notice.\n",
    "<font color=\"black\">\n",
    "*Hint: Your code might look like this: ages.hist(counts='Age in Years', unit='year', bins=np.arange(0,110,1), normed=False)*"
   ]
  },
  {
   "cell_type": "code",
   "execution_count": null,
   "metadata": {
    "collapsed": false
   },
   "outputs": [],
   "source": []
  },
  {
   "cell_type": "markdown",
   "metadata": {},
   "source": [
    "Let's test formally for age heaping.  This is the formula for Whipple's index.  Let's calculate it for the entire population, even though it was originally designed to be used for the population between 23 & 62. $N_{(0,5)}$ is the number of individuals with their age ending in 0 or 5 and $N$ is size of the entire population.\n",
    "\n",
    "$$\\left(\\frac{N_{(0,5)}}{N}\\right)*5$$\n",
    "\n",
    "\n",
    "\n",
    "<font color=\"blue\"> Item 8: Theoretically, if there is no age heaping, what is the value of the index?\n",
    "\n",
    "<font color=\"blue\"> Item 8a: Calculate the Whipple index for your country.  Looking at the histogram, do you think it is a good choice to base the heaping index on 0 and 5, or should another value be used?\n"
   ]
  },
  {
   "cell_type": "code",
   "execution_count": null,
   "metadata": {
    "collapsed": false
   },
   "outputs": [],
   "source": [
    "#Use Table.apply() and the method provided below to calculate the Whipple Index\n",
    "def divisible_by_5(n):\n",
    "    return n%5 == 0\n",
    "\n",
    "def divisible_by_10(n):\n",
    "    return n%10 == 0\n",
    "\n",
    "\n",
    "whipple5 = np.mean(***apply within here***) * 5\n",
    "whipple10 = np.mean(***apply within here***) * 10\n",
    "\n",
    "(whipple5, whipple10)"
   ]
  },
  {
   "cell_type": "markdown",
   "metadata": {},
   "source": [
    "We would like to make a population pyramid for our sample.  Remind yourself what population pyramids look like with this link. http://www.prb.org/Publications/Lesson-Plans/HumanPopulation/Change.aspx\n",
    "Unfortunately our Python knowledge is not yet sophisticated enough to make graphs that are reflections of each other and on a rotated axis. Thus we will do overlaying graphs.  However, keep in mind what these would look like if you were able to rotate and unfold them."
   ]
  },
  {
   "cell_type": "markdown",
   "metadata": {},
   "source": [
    "<font color=\"blue\"> Item 9: Let's do a histogram of males and females. What do you notice?  \n",
    "Give this graph a title & upload to the google doc: https://docs.google.com/a/berkeley.edu/document/d/1AurSgy2Ucl3tGCerfgMdrkUGcDsSm_XDnfJTNJwceXw/edit?usp=sharing."
   ]
  },
  {
   "cell_type": "code",
   "execution_count": null,
   "metadata": {
    "collapsed": false
   },
   "outputs": [],
   "source": [
    "c1 = data.where(*Sex Variable*, *value corresponding to female*).select([*Age variable*])\n",
    "c2 = data.where(*Sex Variable*, *value corresponding to male*).select([*Age variable*])\n",
    "\n",
    "c1.relabel(*Age variable*, 'Age (Male)')\n",
    "c2.relabel(*Age variable*, 'Age (Female)')\n",
    "\n",
    "while c2.num_rows < c1.num_rows:\n",
    "    c2.append([np.nan])\n",
    "while c1.num_rows < c2.num_rows:\n",
    "    c1.append([np.nan])\n",
    "\n",
    "c1.append_column('Age (Sex=2)', c2['Age (Female)'])\n",
    "c1.hist(overlay=True, bins=np.arange(0,120,1), range=(0,120), normed=False)"
   ]
  },
  {
   "cell_type": "markdown",
   "metadata": {},
   "source": [
    "<font color=\"blue\"> Item 10: Let's do this just for male & female children ages 10 & younger. What do you notice?"
   ]
  },
  {
   "cell_type": "code",
   "execution_count": null,
   "metadata": {
    "collapsed": false
   },
   "outputs": [],
   "source": [
    "# Repeat the above process, now accounting for age after splitting by sex\n"
   ]
  },
  {
   "cell_type": "markdown",
   "metadata": {},
   "source": [
    "### Working with birthdays\n",
    "Age in years may not be accurate.  We will need more accurate ages for the young kids when we analyze their height.  Let's look at the birthdate and interview date variable(s).  We need to get these into a form where we can figure out how much time passed between them.  Start by adding new columns to your table: byear, bmonth, bday and iyear, imonth, idate with numeric entries.  Make sure the year has all 4 digits.  \n",
    "\n",
    "There may be some birthdates that are are missing. Inspect the birthdate columns and replace missing values with -99\n",
    "\n",
    "*May not need to do this if we you already filled the missing values in lab 1*"
   ]
  },
  {
   "cell_type": "code",
   "execution_count": null,
   "metadata": {
    "collapsed": false
   },
   "outputs": [],
   "source": [
    "def replace_nan(x):\n",
    "    if np.isnan(x):\n",
    "        return -99\n",
    "    return x\n",
    "\n",
    "#data['Birthdate (day)'] = data.apply(replace_nan, 'Birthdate (day)')\n",
    "#data['Birthdate (month)'] = data.apply(replace_nan, 'Birthdate (month)')\n",
    "#data['Birthdate (year)'] = data.apply(replace_nan, 'Birthdate (year)')"
   ]
  },
  {
   "cell_type": "markdown",
   "metadata": {},
   "source": [
    "<font color=\"blue\"> Item 11: What month has the most birthdays?  Is it the same in the US?"
   ]
  },
  {
   "cell_type": "code",
   "execution_count": null,
   "metadata": {
    "collapsed": false
   },
   "outputs": [],
   "source": [
    "#group based on month\n",
    "months = data.group(***)\n",
    "months.where(***, are.not_equal_to(-99)).hist(counts='Birthdate (month)', normed=False)"
   ]
  },
  {
   "cell_type": "markdown",
   "metadata": {},
   "source": [
    "Now write a formula to calculate the days between the birthdate & interview dates.  We can get a pretty good approximation by calculating the days of each from 0 a.d. and subtracting.  $$\\langle\\textrm{days since 0 a.d.}\\rangle = 365.25*\\textrm{year} + 30.5*(\\textrm{month}-1) + \\textrm{day}$$\n",
    "Use the difference between interview date and birthdate to find the number of days old a person is.  Entitle this new column Days old.  "
   ]
  },
  {
   "cell_type": "code",
   "execution_count": null,
   "metadata": {
    "collapsed": false
   },
   "outputs": [],
   "source": [
    "# make sure to change the column names to yours!\n",
    "\n",
    "def days_total(years, months, days):\n",
    "    return 365.25*years + 30.5*(months - 1) + days\n",
    "\n",
    "byears = data['Birthdate (year)']\n",
    "bmonths = ***Fill in expression here***\n",
    "bdays = ***Fill in expression here***\n",
    "bdays_total = days_total(byears, bmonths, bdays)\n",
    "\n",
    "# Do the same for the interview date\n",
    "\n",
    "iyears = ...\n",
    "...\n",
    "...\n",
    "...\n",
    "...\n",
    "\n",
    "# Make a new column \"Days Old\" that is difference between days old of interview & birthdate\n",
    "data_with_birthdates = data_with_birthdates.with_column('Days Old', ***How would you create these values?***)\n",
    "#hint: you may need to add an extra line of code before this that does the calculation!"
   ]
  },
  {
   "cell_type": "markdown",
   "metadata": {},
   "source": [
    "Calculate two new columns from \"Days Old\": \"Months Old\" and \"Years Old\". "
   ]
  },
  {
   "cell_type": "code",
   "execution_count": null,
   "metadata": {
    "collapsed": true
   },
   "outputs": [],
   "source": []
  },
  {
   "cell_type": "markdown",
   "metadata": {},
   "source": [
    "Remove observations where birthdates are unknown (= -99)"
   ]
  },
  {
   "cell_type": "code",
   "execution_count": null,
   "metadata": {
    "collapsed": true
   },
   "outputs": [],
   "source": []
  },
  {
   "cell_type": "markdown",
   "metadata": {},
   "source": [
    "Let's compare years old that we calculated to years old from the survey question.  Make a scatter plot to compare these. "
   ]
  },
  {
   "cell_type": "code",
   "execution_count": null,
   "metadata": {
    "collapsed": false
   },
   "outputs": [],
   "source": [
    "***Your Table Name Here***.select(['Age in Years', 'Years Old']).scatter('Age in Years')"
   ]
  },
  {
   "cell_type": "markdown",
   "metadata": {},
   "source": [
    "<font color=\"blue\"> Item 12: Repeat the above graph restricting the sample to people with age in years between 45 and 55.  Comment on how well people know their ages."
   ]
  },
  {
   "cell_type": "code",
   "execution_count": null,
   "metadata": {
    "collapsed": false
   },
   "outputs": [],
   "source": []
  },
  {
   "cell_type": "markdown",
   "metadata": {},
   "source": [
    "Join these new columns to your Lab_1 data, with the entire population, even those missing birthdate data.  Save this large data set as a .csv file."
   ]
  },
  {
   "cell_type": "code",
   "execution_count": null,
   "metadata": {
    "collapsed": true
   },
   "outputs": [],
   "source": [
    "#join here\n",
    "***Your Table Name Here***.to_csv('Lab_2.csv')"
   ]
  }
 ],
 "metadata": {
  "anaconda-cloud": {},
  "kernelspec": {
   "display_name": "Python 3",
   "language": "python",
   "name": "python3"
  },
  "language_info": {
   "codemirror_mode": {
    "name": "ipython",
    "version": 3
   },
   "file_extension": ".py",
   "mimetype": "text/x-python",
   "name": "python",
   "nbconvert_exporter": "python",
   "pygments_lexer": "ipython3",
   "version": "3.5.2"
  }
 },
 "nbformat": 4,
 "nbformat_minor": 0
}
