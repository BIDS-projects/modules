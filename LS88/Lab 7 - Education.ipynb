{
 "cells": [
  {
   "cell_type": "code",
   "execution_count": 6,
   "metadata": {
    "collapsed": false
   },
   "outputs": [
    {
     "data": {
      "text/html": [
       "<table border=\"1\" class=\"dataframe\">\n",
       "    <thead>\n",
       "        <tr>\n",
       "            <th>Household ID</th> <th>Individual ID</th> <th>Day of Birth</th> <th>Month of Birth</th> <th>Birth Year</th> <th>Age</th> <th>Sex</th> <th>height</th> <th>weight</th> <th>Relationship to HH Head</th> <th>Mother ID</th> <th>Father ID</th> <th>Education Level</th> <th>Edu Class</th> <th>Master ID</th> <th>Day of Interview</th> <th>Month of Interview</th> <th>Year of Interview</th> <th>Days Old</th> <th>Years Old</th> <th>Months Old</th> <th>Master ID2</th> <th>Annualized sum</th> <th>4002</th> <th>4005</th> <th>4006</th> <th>4007</th> <th>4008</th> <th>4010</th> <th>4013</th> <th>4014</th> <th>4016</th> <th>4024</th>\n",
       "        </tr>\n",
       "    </thead>\n",
       "    <tbody>\n",
       "        <tr>\n",
       "            <td>20111642    </td> <td>3            </td> <td>3           </td> <td>7             </td> <td>1976      </td> <td>31  </td> <td>2   </td> <td>-99   </td> <td>-99   </td> <td>9                      </td> <td>-99      </td> <td>-99      </td> <td>2              </td> <td>5        </td> <td>20111642003</td> <td>10              </td> <td>7                 </td> <td>2007             </td> <td>11329.8 </td> <td>31.0404  </td> <td>372.485   </td> <td>2011164203</td> <td>-99           </td> <td>0   </td> <td>1   </td> <td>0   </td> <td>0   </td> <td>0   </td> <td>0   </td> <td>0   </td> <td>1   </td> <td>0   </td> <td>1   </td>\n",
       "        </tr>\n",
       "    </tbody>\n",
       "        <tr>\n",
       "            <td>20111642    </td> <td>4            </td> <td>10          </td> <td>9             </td> <td>1995      </td> <td>11  </td> <td>2   </td> <td>-99   </td> <td>-99   </td> <td>5                      </td> <td>3        </td> <td>2        </td> <td>-99            </td> <td>-99      </td> <td>20111642004</td> <td>10              </td> <td>7                 </td> <td>2007             </td> <td>4322    </td> <td>11.8411  </td> <td>142.093   </td> <td>2011164204</td> <td>-99           </td> <td>0   </td> <td>1   </td> <td>0   </td> <td>0   </td> <td>0   </td> <td>0   </td> <td>0   </td> <td>1   </td> <td>0   </td> <td>1   </td>\n",
       "        </tr>\n",
       "    </tbody>\n",
       "        <tr>\n",
       "            <td>20111642    </td> <td>5            </td> <td>20          </td> <td>4             </td> <td>1997      </td> <td>10  </td> <td>1   </td> <td>-99   </td> <td>-99   </td> <td>5                      </td> <td>3        </td> <td>2        </td> <td>-99            </td> <td>-99      </td> <td>20111642005</td> <td>10              </td> <td>7                 </td> <td>2007             </td> <td>3734    </td> <td>10.2301  </td> <td>122.762   </td> <td>2011164205</td> <td>-99           </td> <td>0   </td> <td>1   </td> <td>0   </td> <td>0   </td> <td>0   </td> <td>0   </td> <td>0   </td> <td>1   </td> <td>0   </td> <td>1   </td>\n",
       "        </tr>\n",
       "    </tbody>\n",
       "        <tr>\n",
       "            <td>20111642    </td> <td>6            </td> <td>26          </td> <td>12            </td> <td>1999      </td> <td>7   </td> <td>1   </td> <td>-99   </td> <td>-99   </td> <td>5                      </td> <td>3        </td> <td>2        </td> <td>-99            </td> <td>-99      </td> <td>20111642006</td> <td>10              </td> <td>7                 </td> <td>2007             </td> <td>2753.5  </td> <td>7.54384  </td> <td>90.526    </td> <td>2011164206</td> <td>-99           </td> <td>0   </td> <td>1   </td> <td>0   </td> <td>0   </td> <td>0   </td> <td>0   </td> <td>0   </td> <td>1   </td> <td>0   </td> <td>1   </td>\n",
       "        </tr>\n",
       "    </tbody>\n",
       "        <tr>\n",
       "            <td>20111642    </td> <td>7            </td> <td>17          </td> <td>1             </td> <td>2000      </td> <td>7   </td> <td>1   </td> <td>-99   </td> <td>-99   </td> <td>5                      </td> <td>3        </td> <td>2        </td> <td>-99            </td> <td>-99      </td> <td>20111642007</td> <td>10              </td> <td>7                 </td> <td>2007             </td> <td>2732.75 </td> <td>7.48699  </td> <td>89.8438   </td> <td>2011164207</td> <td>-99           </td> <td>0   </td> <td>1   </td> <td>0   </td> <td>0   </td> <td>0   </td> <td>0   </td> <td>0   </td> <td>1   </td> <td>0   </td> <td>1   </td>\n",
       "        </tr>\n",
       "    </tbody>\n",
       "        <tr>\n",
       "            <td>20111642    </td> <td>8            </td> <td>26          </td> <td>5             </td> <td>2002      </td> <td>5   </td> <td>1   </td> <td>105.9 </td> <td>22.6  </td> <td>5                      </td> <td>3        </td> <td>2        </td> <td>-99            </td> <td>-99      </td> <td>20111642008</td> <td>10              </td> <td>7                 </td> <td>2007             </td> <td>1871.25 </td> <td>5.12671  </td> <td>61.5205   </td> <td>2011164208</td> <td>-99           </td> <td>0   </td> <td>1   </td> <td>0   </td> <td>0   </td> <td>0   </td> <td>0   </td> <td>0   </td> <td>1   </td> <td>0   </td> <td>1   </td>\n",
       "        </tr>\n",
       "    </tbody>\n",
       "        <tr>\n",
       "            <td>20111642    </td> <td>9            </td> <td>5           </td> <td>1             </td> <td>2005      </td> <td>2   </td> <td>2   </td> <td>80.5  </td> <td>9.5   </td> <td>5                      </td> <td>3        </td> <td>2        </td> <td>-99            </td> <td>-99      </td> <td>20111642009</td> <td>10              </td> <td>7                 </td> <td>2007             </td> <td>918.5   </td> <td>2.51644  </td> <td>30.1973   </td> <td>2011164209</td> <td>-99           </td> <td>0   </td> <td>1   </td> <td>0   </td> <td>0   </td> <td>0   </td> <td>0   </td> <td>0   </td> <td>1   </td> <td>0   </td> <td>1   </td>\n",
       "        </tr>\n",
       "    </tbody>\n",
       "        <tr>\n",
       "            <td>20111642    </td> <td>10           </td> <td>12          </td> <td>4             </td> <td>2006      </td> <td>1   </td> <td>2   </td> <td>70.3  </td> <td>7.1   </td> <td>5                      </td> <td>3        </td> <td>2        </td> <td>-99            </td> <td>-99      </td> <td>20111642010</td> <td>10              </td> <td>7                 </td> <td>2007             </td> <td>454.75  </td> <td>1.24589  </td> <td>14.9507   </td> <td>2011164210</td> <td>-99           </td> <td>0   </td> <td>1   </td> <td>0   </td> <td>0   </td> <td>0   </td> <td>0   </td> <td>0   </td> <td>1   </td> <td>0   </td> <td>1   </td>\n",
       "        </tr>\n",
       "    </tbody>\n",
       "        <tr>\n",
       "            <td>20113642    </td> <td>1            </td> <td>13          </td> <td>4             </td> <td>1966      </td> <td>41  </td> <td>1   </td> <td>-99   </td> <td>-99   </td> <td>1                      </td> <td>-99      </td> <td>-99      </td> <td>-99            </td> <td>-99      </td> <td>20113642001</td> <td>10              </td> <td>7                 </td> <td>2007             </td> <td>15063.8 </td> <td>41.2705  </td> <td>495.247   </td> <td>2011364201</td> <td>-99           </td> <td>0   </td> <td>1   </td> <td>0   </td> <td>0   </td> <td>0   </td> <td>0   </td> <td>0   </td> <td>1   </td> <td>0   </td> <td>1   </td>\n",
       "        </tr>\n",
       "    </tbody>\n",
       "        <tr>\n",
       "            <td>20113642    </td> <td>2            </td> <td>1           </td> <td>1             </td> <td>1969      </td> <td>38  </td> <td>2   </td> <td>-99   </td> <td>-99   </td> <td>2                      </td> <td>-99      </td> <td>-99      </td> <td>-99            </td> <td>-99      </td> <td>20113642002</td> <td>10              </td> <td>7                 </td> <td>2007             </td> <td>14071.5 </td> <td>38.5521  </td> <td>462.625   </td> <td>2011364202</td> <td>-99           </td> <td>0   </td> <td>1   </td> <td>0   </td> <td>0   </td> <td>0   </td> <td>0   </td> <td>0   </td> <td>1   </td> <td>0   </td> <td>1   </td>\n",
       "        </tr>\n",
       "    </tbody>\n",
       "</table>\n",
       "<p>... (23002 rows omitted)</p"
      ],
      "text/plain": [
       "Household ID | Individual ID | Day of Birth | Month of Birth | Birth Year | Age  | Sex  | height | weight | Relationship to HH Head | Mother ID | Father ID | Education Level | Edu Class | Master ID   | Day of Interview | Month of Interview | Year of Interview | Days Old | Years Old | Months Old | Master ID2 | Annualized sum | 4002 | 4005 | 4006 | 4007 | 4008 | 4010 | 4013 | 4014 | 4016 | 4024\n",
       "20111642     | 3             | 3            | 7              | 1976       | 31   | 2    | -99    | -99    | 9                       | -99       | -99       | 2               | 5         | 20111642003 | 10               | 7                  | 2007              | 11329.8  | 31.0404   | 372.485    | 2011164203 | -99            | 0    | 1    | 0    | 0    | 0    | 0    | 0    | 1    | 0    | 1\n",
       "20111642     | 4             | 10           | 9              | 1995       | 11   | 2    | -99    | -99    | 5                       | 3         | 2         | -99             | -99       | 20111642004 | 10               | 7                  | 2007              | 4322     | 11.8411   | 142.093    | 2011164204 | -99            | 0    | 1    | 0    | 0    | 0    | 0    | 0    | 1    | 0    | 1\n",
       "20111642     | 5             | 20           | 4              | 1997       | 10   | 1    | -99    | -99    | 5                       | 3         | 2         | -99             | -99       | 20111642005 | 10               | 7                  | 2007              | 3734     | 10.2301   | 122.762    | 2011164205 | -99            | 0    | 1    | 0    | 0    | 0    | 0    | 0    | 1    | 0    | 1\n",
       "20111642     | 6             | 26           | 12             | 1999       | 7    | 1    | -99    | -99    | 5                       | 3         | 2         | -99             | -99       | 20111642006 | 10               | 7                  | 2007              | 2753.5   | 7.54384   | 90.526     | 2011164206 | -99            | 0    | 1    | 0    | 0    | 0    | 0    | 0    | 1    | 0    | 1\n",
       "20111642     | 7             | 17           | 1              | 2000       | 7    | 1    | -99    | -99    | 5                       | 3         | 2         | -99             | -99       | 20111642007 | 10               | 7                  | 2007              | 2732.75  | 7.48699   | 89.8438    | 2011164207 | -99            | 0    | 1    | 0    | 0    | 0    | 0    | 0    | 1    | 0    | 1\n",
       "20111642     | 8             | 26           | 5              | 2002       | 5    | 1    | 105.9  | 22.6   | 5                       | 3         | 2         | -99             | -99       | 20111642008 | 10               | 7                  | 2007              | 1871.25  | 5.12671   | 61.5205    | 2011164208 | -99            | 0    | 1    | 0    | 0    | 0    | 0    | 0    | 1    | 0    | 1\n",
       "20111642     | 9             | 5            | 1              | 2005       | 2    | 2    | 80.5   | 9.5    | 5                       | 3         | 2         | -99             | -99       | 20111642009 | 10               | 7                  | 2007              | 918.5    | 2.51644   | 30.1973    | 2011164209 | -99            | 0    | 1    | 0    | 0    | 0    | 0    | 0    | 1    | 0    | 1\n",
       "20111642     | 10            | 12           | 4              | 2006       | 1    | 2    | 70.3   | 7.1    | 5                       | 3         | 2         | -99             | -99       | 20111642010 | 10               | 7                  | 2007              | 454.75   | 1.24589   | 14.9507    | 2011164210 | -99            | 0    | 1    | 0    | 0    | 0    | 0    | 0    | 1    | 0    | 1\n",
       "20113642     | 1             | 13           | 4              | 1966       | 41   | 1    | -99    | -99    | 1                       | -99       | -99       | -99             | -99       | 20113642001 | 10               | 7                  | 2007              | 15063.8  | 41.2705   | 495.247    | 2011364201 | -99            | 0    | 1    | 0    | 0    | 0    | 0    | 0    | 1    | 0    | 1\n",
       "20113642     | 2             | 1            | 1              | 1969       | 38   | 2    | -99    | -99    | 2                       | -99       | -99       | -99             | -99       | 20113642002 | 10               | 7                  | 2007              | 14071.5  | 38.5521   | 462.625    | 2011364202 | -99            | 0    | 1    | 0    | 0    | 0    | 0    | 0    | 1    | 0    | 1\n",
       "... (23002 rows omitted)"
      ]
     },
     "execution_count": 6,
     "metadata": {},
     "output_type": "execute_result"
    }
   ],
   "source": [
    "from datascience import *\n",
    "from pandas import read_stata\n",
    "import numpy as np\n",
    "from pygrowup import Calculator\n",
    "\n",
    "import matplotlib\n",
    "matplotlib.use('Agg', warn=False)\n",
    "%matplotlib inline\n",
    "import matplotlib.pyplot as plots\n",
    "plots.style.use('fivethirtyeight')\n",
    "import warnings\n",
    "warnings.simplefilter(action=\"ignore\", category=FutureWarning)\n",
    "\n",
    "data = Table.read_table('../Ronnie/Lab_7.csv')\n",
    "data"
   ]
  },
  {
   "cell_type": "code",
   "execution_count": null,
   "metadata": {
    "collapsed": true
   },
   "outputs": [],
   "source": [
    "data.where('Sex', 1)"
   ]
  },
  {
   "cell_type": "code",
   "execution_count": null,
   "metadata": {
    "collapsed": true
   },
   "outputs": [],
   "source": []
  },
  {
   "cell_type": "code",
   "execution_count": 7,
   "metadata": {
    "collapsed": false
   },
   "outputs": [
    {
     "ename": "KeyError",
     "evalue": "'Age (Years)'",
     "output_type": "error",
     "traceback": [
      "\u001b[0;31m---------------------------------------------------------------------------\u001b[0m",
      "\u001b[0;31mKeyError\u001b[0m                                  Traceback (most recent call last)",
      "\u001b[0;32m<ipython-input-7-be07a802cae8>\u001b[0m in \u001b[0;36m<module>\u001b[0;34m()\u001b[0m\n\u001b[0;32m----> 1\u001b[0;31m \u001b[0mdata\u001b[0m\u001b[0;34m.\u001b[0m\u001b[0mwhere\u001b[0m\u001b[0;34m(\u001b[0m\u001b[0mdata\u001b[0m\u001b[0;34m[\u001b[0m\u001b[0;34m'Age (Years)'\u001b[0m\u001b[0;34m]\u001b[0m \u001b[0;34m>=\u001b[0m \u001b[0;36m22\u001b[0m\u001b[0;34m)\u001b[0m\u001b[0;34m.\u001b[0m\u001b[0mwhere\u001b[0m\u001b[0;34m(\u001b[0m\u001b[0;34m'Age (years)'\u001b[0m\u001b[0;34m,\u001b[0m \u001b[0mare\u001b[0m\u001b[0;34m.\u001b[0m\u001b[0mabove\u001b[0m\u001b[0;34m(\u001b[0m\u001b[0;36m22\u001b[0m\u001b[0;34m)\u001b[0m\u001b[0;34m)\u001b[0m\u001b[0;34m\u001b[0m\u001b[0m\n\u001b[0m",
      "\u001b[0;32m/Users/ronaldwalker/anaconda/lib/python3.5/site-packages/datascience/tables.py\u001b[0m in \u001b[0;36m__getitem__\u001b[0;34m(self, index_or_label)\u001b[0m\n\u001b[1;32m    167\u001b[0m     \u001b[0;32mdef\u001b[0m \u001b[0m__getitem__\u001b[0m\u001b[0;34m(\u001b[0m\u001b[0mself\u001b[0m\u001b[0;34m,\u001b[0m \u001b[0mindex_or_label\u001b[0m\u001b[0;34m)\u001b[0m\u001b[0;34m:\u001b[0m\u001b[0;34m\u001b[0m\u001b[0m\n\u001b[1;32m    168\u001b[0m         \u001b[0mlabel\u001b[0m \u001b[0;34m=\u001b[0m \u001b[0mself\u001b[0m\u001b[0;34m.\u001b[0m\u001b[0m_as_label\u001b[0m\u001b[0;34m(\u001b[0m\u001b[0mindex_or_label\u001b[0m\u001b[0;34m)\u001b[0m\u001b[0;34m\u001b[0m\u001b[0m\n\u001b[0;32m--> 169\u001b[0;31m         \u001b[0;32mreturn\u001b[0m \u001b[0mself\u001b[0m\u001b[0;34m.\u001b[0m\u001b[0mcolumn\u001b[0m\u001b[0;34m(\u001b[0m\u001b[0mlabel\u001b[0m\u001b[0;34m)\u001b[0m\u001b[0;34m\u001b[0m\u001b[0m\n\u001b[0m\u001b[1;32m    170\u001b[0m \u001b[0;34m\u001b[0m\u001b[0m\n\u001b[1;32m    171\u001b[0m     \u001b[0;32mdef\u001b[0m \u001b[0m__setitem__\u001b[0m\u001b[0;34m(\u001b[0m\u001b[0mself\u001b[0m\u001b[0;34m,\u001b[0m \u001b[0mlabel\u001b[0m\u001b[0;34m,\u001b[0m \u001b[0mvalues\u001b[0m\u001b[0;34m)\u001b[0m\u001b[0;34m:\u001b[0m\u001b[0;34m\u001b[0m\u001b[0m\n",
      "\u001b[0;32m/Users/ronaldwalker/anaconda/lib/python3.5/site-packages/datascience/tables.py\u001b[0m in \u001b[0;36mcolumn\u001b[0;34m(self, index_or_label)\u001b[0m\n\u001b[1;32m    265\u001b[0m             \u001b[0mAn\u001b[0m \u001b[0minstance\u001b[0m \u001b[0mof\u001b[0m\u001b[0;31m \u001b[0m\u001b[0;31m`\u001b[0m\u001b[0;31m`\u001b[0m\u001b[0mnumpy\u001b[0m\u001b[0;34m.\u001b[0m\u001b[0marray\u001b[0m\u001b[0;31m`\u001b[0m\u001b[0;31m`\u001b[0m\u001b[0;34m.\u001b[0m\u001b[0;34m\u001b[0m\u001b[0m\n\u001b[1;32m    266\u001b[0m         \"\"\"\n\u001b[0;32m--> 267\u001b[0;31m         \u001b[0;32mreturn\u001b[0m \u001b[0mself\u001b[0m\u001b[0;34m.\u001b[0m\u001b[0m_columns\u001b[0m\u001b[0;34m[\u001b[0m\u001b[0mself\u001b[0m\u001b[0;34m.\u001b[0m\u001b[0m_as_label\u001b[0m\u001b[0;34m(\u001b[0m\u001b[0mindex_or_label\u001b[0m\u001b[0;34m)\u001b[0m\u001b[0;34m]\u001b[0m\u001b[0;34m\u001b[0m\u001b[0m\n\u001b[0m\u001b[1;32m    268\u001b[0m \u001b[0;34m\u001b[0m\u001b[0m\n\u001b[1;32m    269\u001b[0m     \u001b[0;31m# Deprecated\u001b[0m\u001b[0;34m\u001b[0m\u001b[0;34m\u001b[0m\u001b[0m\n",
      "\u001b[0;31mKeyError\u001b[0m: 'Age (Years)'"
     ]
    }
   ],
   "source": [
    "c1 = data.where(data['Age (Years)'] >= 22)\n",
    "np.logical_and(data)"
   ]
  },
  {
   "cell_type": "markdown",
   "metadata": {},
   "source": [
    "# Education\n",
    "In Lab 5 we looked at education of parents and how this correlated with child height.  Now let's look at children's education since its an important aspect of children's development.\n",
    "\n",
    "We cleaned up the columns of mother's and father's years of schoolling back in Lab 5.  Now, in the same way, let's clean up the years of schooling column.  Remember there may be special codes for things like technical school, or college.  You can re-adjust these values to better align with the actual number of years of school.  It is ok to make an educated guess here about how many years that would be. "
   ]
  },
  {
   "cell_type": "code",
   "execution_count": null,
   "metadata": {
    "collapsed": true
   },
   "outputs": [],
   "source": []
  },
  {
   "cell_type": "markdown",
   "metadata": {},
   "source": [
    "Though we haven't studied the countries' education system, we can learn a lot from the data.  \n",
    "<font color=\"Blue\"> Item 1: For adults over age 22, make a histogram of years of schooling.  What do you think the spikes correspond to?  Confirm this with a little internet research on your countries' schooling system.  "
   ]
  },
  {
   "cell_type": "code",
   "execution_count": null,
   "metadata": {
    "collapsed": true
   },
   "outputs": [],
   "source": []
  },
  {
   "cell_type": "markdown",
   "metadata": {},
   "source": [
    "These spikes are sometimes called \"natural levels\".  To do cross country comparisons it does not make sense to use years of schooling if high school is 11 years in one country but 12 in another.  Instead, we use these \"natural levels.\"  \n",
    "\n",
    "For all individuals in the data, not just those over age 22, make a new column in your data table that will indicate which natural level the individuals have acheived: None, Intermediate Primary, Primary, Intermediate Secondary, Secondary, and Higher Education.  The intermediate categories may be spikes of their own.  For example, Primary is 8th grade but Intermediate Primary is 3rd grade. In this case, someone who has completed 7th grade would be categorized into the Intermediate Primary category since they have not completed 8th grade."
   ]
  },
  {
   "cell_type": "code",
   "execution_count": null,
   "metadata": {
    "collapsed": true
   },
   "outputs": [],
   "source": []
  },
  {
   "cell_type": "markdown",
   "metadata": {},
   "source": [
    "<font color=\"Blue\"> Item 2: compare education levels of women to men over age 22 using a numerical assessment or a visual one.  You can decide what method you think shares this information best."
   ]
  },
  {
   "cell_type": "code",
   "execution_count": null,
   "metadata": {
    "collapsed": true
   },
   "outputs": [],
   "source": []
  },
  {
   "cell_type": "markdown",
   "metadata": {},
   "source": [
    "Now we will explore children's schooling.  First we will see what portion of children are \"behind\" in school. <font color=\"Blue\"> You may need to make a new coluumn with years in school if the schooling data has two variables: level of school and year in school.  Item 3: For each age between 5 & 18, determine which grade most of the children are in. "
   ]
  },
  {
   "cell_type": "code",
   "execution_count": null,
   "metadata": {
    "collapsed": true
   },
   "outputs": [],
   "source": []
  },
  {
   "cell_type": "markdown",
   "metadata": {},
   "source": [
    "If any of the kids are 2 grades or more behind the modal grade, we will consider them to be delayed.  Make a new column 'Delayed' with 0 being not delayed and 1 being delayed.  Adults over age 20 and children age 7 and under can be coded with -99.  "
   ]
  },
  {
   "cell_type": "code",
   "execution_count": null,
   "metadata": {
    "collapsed": true
   },
   "outputs": [],
   "source": []
  },
  {
   "cell_type": "markdown",
   "metadata": {},
   "source": [
    "<font color=\"Blue\"> Item 4: For each age between 7 & 18, determine what portion are delayed."
   ]
  },
  {
   "cell_type": "code",
   "execution_count": null,
   "metadata": {
    "collapsed": true
   },
   "outputs": [],
   "source": []
  },
  {
   "cell_type": "markdown",
   "metadata": {},
   "source": [
    "Save your data (complete for all individuals) with the new columns: Natural Levels Codes & Delayed (Hopefully Years of Schooling is already a column.)"
   ]
  },
  {
   "cell_type": "code",
   "execution_count": null,
   "metadata": {
    "collapsed": true
   },
   "outputs": [],
   "source": []
  },
  {
   "cell_type": "markdown",
   "metadata": {},
   "source": [
    "<font color=\"Blue\"> Item 5: To compare delays by gender, let's make a scatter plot.  Put age on the x axis, percent delayed on y axis, and color the dots differently for girls and boys.  Do any patterns emerge?"
   ]
  },
  {
   "cell_type": "code",
   "execution_count": null,
   "metadata": {
    "collapsed": true
   },
   "outputs": [],
   "source": []
  },
  {
   "cell_type": "markdown",
   "metadata": {},
   "source": [
    "<font color=\"Blue\"> Challenge Item: Now let's see if there seems to be any preference for first borns or youngest children getting educated.  Repeat above but just looking at boys who are the oldest or youngest in the family.  A new column will take on the value of 1 or 0 for oldest or youngest.  Now instead of having boys & girls being the different color dots, have oldest or youngest.\n"
   ]
  },
  {
   "cell_type": "code",
   "execution_count": null,
   "metadata": {
    "collapsed": true
   },
   "outputs": [],
   "source": []
  }
 ],
 "metadata": {
  "kernelspec": {
   "display_name": "Python [Root]",
   "language": "python",
   "name": "Python [Root]"
  },
  "language_info": {
   "codemirror_mode": {
    "name": "ipython",
    "version": 3
   },
   "file_extension": ".py",
   "mimetype": "text/x-python",
   "name": "python",
   "nbconvert_exporter": "python",
   "pygments_lexer": "ipython3",
   "version": "3.5.2"
  }
 },
 "nbformat": 4,
 "nbformat_minor": 0
}
