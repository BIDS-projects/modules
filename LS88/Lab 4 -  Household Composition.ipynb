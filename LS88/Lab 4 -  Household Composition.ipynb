{
 "cells": [
  {
   "cell_type": "code",
   "execution_count": 2,
   "metadata": {
    "collapsed": false
   },
   "outputs": [
    {
     "ename": "ImportError",
     "evalue": "No module named 'pygrowup'",
     "output_type": "error",
     "traceback": [
      "\u001b[0;31m---------------------------------------------------------------------------\u001b[0m",
      "\u001b[0;31mImportError\u001b[0m                               Traceback (most recent call last)",
      "\u001b[0;32m<ipython-input-2-9d67cb9a6b57>\u001b[0m in \u001b[0;36m<module>\u001b[0;34m()\u001b[0m\n\u001b[1;32m      3\u001b[0m \u001b[0;32mfrom\u001b[0m \u001b[0mpandas\u001b[0m \u001b[0;32mimport\u001b[0m \u001b[0mread_stata\u001b[0m\u001b[0;34m\u001b[0m\u001b[0m\n\u001b[1;32m      4\u001b[0m \u001b[0;32mimport\u001b[0m \u001b[0mnumpy\u001b[0m \u001b[0;32mas\u001b[0m \u001b[0mnp\u001b[0m\u001b[0;34m\u001b[0m\u001b[0m\n\u001b[0;32m----> 5\u001b[0;31m \u001b[0;32mfrom\u001b[0m \u001b[0mpygrowup\u001b[0m \u001b[0;32mimport\u001b[0m \u001b[0mCalculator\u001b[0m\u001b[0;34m\u001b[0m\u001b[0m\n\u001b[0m\u001b[1;32m      6\u001b[0m \u001b[0;34m\u001b[0m\u001b[0m\n\u001b[1;32m      7\u001b[0m \u001b[0;32mimport\u001b[0m \u001b[0mmatplotlib\u001b[0m\u001b[0;34m\u001b[0m\u001b[0m\n",
      "\u001b[0;31mImportError\u001b[0m: No module named 'pygrowup'"
     ]
    }
   ],
   "source": [
    "# run this cell\n",
    "from datascience import *\n",
    "from pandas import read_stata\n",
    "import numpy as np\n",
    "from pygrowup import Calculator\n",
    "\n",
    "import matplotlib\n",
    "matplotlib.use('Agg', warn=False)\n",
    "%matplotlib inline\n",
    "import matplotlib.pyplot as plots\n",
    "plots.style.use('fivethirtyeight')\n",
    "import warnings\n",
    "warnings.simplefilter(action=\"ignore\", category=FutureWarning)\n",
    "\n",
    "data = Table.read_table(\"***Appropriate file path to Lab 3's CSV***\")\n",
    "data"
   ]
  },
  {
   "cell_type": "markdown",
   "metadata": {},
   "source": [
    "# Household Composition\n",
    "In this lab, we are going to look at who is in the household, and see if household composition correlates with child growth."
   ]
  },
  {
   "cell_type": "markdown",
   "metadata": {},
   "source": [
    "Our first goal will be to make a pie graph that illustrates the sex and age composition of household members.  Make new columns that indicate what is the percentage of the household composed of young children girls ages 0-5, young children boys ages 0-5, girls ages 6-17, boys ages 6-17, women ages 18-59, men ages 18-59, elderly women ages 60+, and elderly men ages 60+.\n",
    "\n",
    "For example, if the household is the following\n",
    ">Barack 55\n",
    "\n",
    ">Michelle 52\n",
    "\n",
    ">Malia 18\n",
    "\n",
    ">Sasha 15\n",
    "\n",
    ">Marian 70\n",
    "\n",
    "20% are men ages 18-59, 40% are women ages 18-59, 20% are girls ages 6-17, and 20% are women ages 60+.  All the other categories are 0%.\n",
    "\n",
    "\n",
    "To do this calculatation, you will need to add up total number of people in the household, and then the total number of people in each category."
   ]
  },
  {
   "cell_type": "code",
   "execution_count": null,
   "metadata": {
    "collapsed": false
   },
   "outputs": [],
   "source": [
    "#This cell will take a while to run\n",
    "\n",
    "#Fill in the underscores with the age categories that we want to be our cut off points\n",
    "#Remember Fizz-Buzz!\n",
    "def age_category(age):\n",
    "    if age < ____:\n",
    "        return 1\n",
    "    elif age < ____:\n",
    "        return 2\n",
    "    elif age < ____:\n",
    "        return 3\n",
    "    else:\n",
    "        return 4\n",
    "\n",
    "data['Age Category'] = data.apply(age_category, 'Years Old')\n",
    "categories = data.pivot('***Column Name***', ['Age Category', '***Different Column Name***'])\n",
    "\n",
    "household_table = Table(['***Column Name***', 'Boys 0-5', 'Girls 0-5', 'Boys 6-17', 'Girls 6-17', 'Men 18-59', 'Women 18-59', 'Men 60+', 'Women 60+'])\n",
    "households = data.group('***Column Name***')['***Column Name***']\n",
    "for household_id in households:\n",
    "    household_data = categories[str(household_id)]\n",
    "    num_members = ***function***(household_data)\n",
    "    category_values = household_data/num_members\n",
    "    household_table.append([household_id] + list(category_values))\n",
    "\n",
    "data = data.join('Household ID', household_table)\n",
    "data"
   ]
  },
  {
   "cell_type": "markdown",
   "metadata": {},
   "source": [
    "Call the table that keeps just one row per household with these percentiles computed from the entire household.   \n",
    "<font color=\"Blue\"> Item 1: What would happen to our estimations of average household composition if we kept all rows?"
   ]
  },
  {
   "cell_type": "code",
   "execution_count": null,
   "metadata": {
    "collapsed": false
   },
   "outputs": [],
   "source": []
  },
  {
   "cell_type": "markdown",
   "metadata": {},
   "source": [
    "<font color=\"Blue\"> Item 2: Make a pie graph of the average percentages of people of these age categories in the household.  "
   ]
  },
  {
   "cell_type": "code",
   "execution_count": null,
   "metadata": {
    "collapsed": false
   },
   "outputs": [],
   "source": [
    "#First we will make a bar graph, then we will use that to make the pie chart\n",
    "\n",
    "#create an array with all of the means using 'household_table' from the cell above\n",
    "household_means = \n",
    "\n",
    "household_means_table = Table().with_column('Means', household_means).with_column('Labels', ['Boys 0-5', 'Girls 0-5', 'Boys 6-17', 'Girls 6-17', 'Men 18-59', 'Women 18-59', 'Men 60+', 'Women 60+'])\n",
    "household_means_table.barh(column_for_categories='Labels')"
   ]
  },
  {
   "cell_type": "code",
   "execution_count": null,
   "metadata": {
    "collapsed": true
   },
   "outputs": [],
   "source": [
    "labels = ***Table***['Labels']\n",
    "sizes = ***Table***['Means']\n",
    "customcolormap = [(x/7.0,  x/7.0, 0.85) for x in range(len(household_means))]\n",
    "\n",
    "plots.pie(sizes, labels=labels, colors=customcolormap, autopct='%1.1f%%')\n",
    "plots.axis('equal')"
   ]
  },
  {
   "cell_type": "markdown",
   "metadata": {},
   "source": [
    "As in the reading for today, let's see which of our households are nuclear families. We will make a new column indicating if the household is a \"standard\" nuclear family: contains father, mother, and children.  We will divide the making of this column into several steps in order to code this new column: we will make three new columns with true/false values and if all are true, then the final new column \"Nuclear Family\" will have a true value.\n",
    "\n",
    "a) Determine that the household head has a spouse."
   ]
  },
  {
   "cell_type": "code",
   "execution_count": null,
   "metadata": {
    "collapsed": false
   },
   "outputs": [],
   "source": [
    "household_relations = data.pivot('***Column Name***)', 'Household ID')\n",
    "household_relations.show(5)\n",
    "# Look up what the different values for the 'Relationship to Head' column\n",
    "# are, and insert the appropriate one into the next line of code\n",
    "has_spouses = Table().with_column('Household ID', household_relations['Household ID']).with_column('Head has Spouse', household_relations['***Insert Value of Relationship to Head Here***'] > 0)\n",
    "has_spouse"
   ]
  },
  {
   "cell_type": "markdown",
   "metadata": {},
   "source": [
    "b) Determine if all the children in the family are children of the head. For this exercise, we will use the relation to the head column.  Next lab we will use the IDs of mothers and fathers to work this out. "
   ]
  },
  {
   "cell_type": "code",
   "execution_count": null,
   "metadata": {
    "collapsed": true
   },
   "outputs": [],
   "source": [
    "#First we are going to see if each family has children of their own\n",
    "#Look back at has_spouse to see how to do this\n",
    "\n",
    "has_children = \n",
    "has_children"
   ]
  },
  {
   "cell_type": "markdown",
   "metadata": {},
   "source": [
    "c) Determine there is no one else but these people in the household"
   ]
  },
  {
   "cell_type": "code",
   "execution_count": null,
   "metadata": {
    "collapsed": false
   },
   "outputs": [],
   "source": [
    "other_members = household_relations['4']\n",
    "#look at table household_relations to figure out start & end values\n",
    "for i in range(***Insert Start Value***,***Insert End Value***):\n",
    "    other_members += household_relations[str(i)]\n",
    "    \n",
    "only_parents_and_children = other_members == 0\n",
    "\n",
    "is_nuclear['Only Parents And Children'] = only_parents_and_children\n",
    "is_nuclear\n",
    "\n",
    "def family_is_nuclear(row):\n",
    "    return row[1] and row[2]\n",
    "\n",
    "is_nuclear['Is Nuclear'] = is_nuclear.apply(family_is_nuclear)\n",
    "is_nuclear"
   ]
  },
  {
   "cell_type": "markdown",
   "metadata": {},
   "source": [
    "d) Join the 'Is Nuclear' column from the is_nuclear table onto your main data table"
   ]
  },
  {
   "cell_type": "code",
   "execution_count": null,
   "metadata": {
    "collapsed": false
   },
   "outputs": [],
   "source": [
    "#use join\n"
   ]
  },
  {
   "cell_type": "markdown",
   "metadata": {},
   "source": [
    "<font color=\"Blue\"> Item 3: What percentage of families are nuclear families? (Not what percentage of individuals live in nuclear families!)"
   ]
  },
  {
   "cell_type": "code",
   "execution_count": null,
   "metadata": {
    "collapsed": true
   },
   "outputs": [],
   "source": []
  },
  {
   "cell_type": "markdown",
   "metadata": {},
   "source": [
    "<font color=\"Blue\"> Item 4: Among nuclear families, what is the average number of children?  Given the reading, what do these two statistics imply about your country's economic development?"
   ]
  },
  {
   "cell_type": "code",
   "execution_count": null,
   "metadata": {
    "collapsed": true
   },
   "outputs": [],
   "source": []
  },
  {
   "cell_type": "markdown",
   "metadata": {},
   "source": [
    "Let's see if being in a nuclear family is associated with better child health outcomes.  For simplicity, let's just look at 3-year-olds.  \n",
    "<font color=\"Blue\"> Item 5: Compare average Height for age Z scores (HAZ) of 3-year-olds in nuclear families with 3-year-olds not in nuclear families.  Is this what you expected?  Explain why."
   ]
  },
  {
   "cell_type": "code",
   "execution_count": null,
   "metadata": {
    "collapsed": true
   },
   "outputs": [],
   "source": []
  },
  {
   "cell_type": "markdown",
   "metadata": {},
   "source": [
    "In some cases, larger families are associated with greater poverty.  However, some family members in large families may be more valuable to child health than others.  \n",
    "<font color=\"Blue\"> Item 6: Make a graph to compare the HAZ of children in families with no elderly women but elderly men to children in families with no elderly men but elderly women in the family.  "
   ]
  },
  {
   "cell_type": "code",
   "execution_count": null,
   "metadata": {
    "collapsed": true
   },
   "outputs": [],
   "source": []
  },
  {
   "cell_type": "markdown",
   "metadata": {},
   "source": [
    "Child health can be related to income.  We might expect that a larger proportion of earners results in better child health.  On the other hand, we may also want to take into account that more people or children in the household might compete for consuming these resources.  \n",
    "\n",
    "<font color=\"Blue\"> Item 7: Propose a measure of household composition that takes at least these two considerations into account.  (example: ratio of children to adults).  Explain why you think this is a good mesaure to try.\n",
    "\n"
   ]
  },
  {
   "cell_type": "code",
   "execution_count": null,
   "metadata": {
    "collapsed": true
   },
   "outputs": [],
   "source": [
    "#code the measure"
   ]
  },
  {
   "cell_type": "markdown",
   "metadata": {
    "collapsed": true
   },
   "source": [
    "<font color=\"Blue\"> Item 8: Make a scatter plot of your measure with HAZ of 3-year-olds.  Did it come out as you expected?  If not, perhaps try a different measure.  If none come out as you expect, why do you think?  What other factors would you like to be able to take into account?"
   ]
  },
  {
   "cell_type": "code",
   "execution_count": null,
   "metadata": {
    "collapsed": true
   },
   "outputs": [],
   "source": []
  }
 ],
 "metadata": {
  "anaconda-cloud": {},
  "kernelspec": {
   "display_name": "Python [default]",
   "language": "python",
   "name": "python3"
  },
  "language_info": {
   "codemirror_mode": {
    "name": "ipython",
    "version": 3
   },
   "file_extension": ".py",
   "mimetype": "text/x-python",
   "name": "python",
   "nbconvert_exporter": "python",
   "pygments_lexer": "ipython3",
   "version": "3.5.2"
  }
 },
 "nbformat": 4,
 "nbformat_minor": 0
}
